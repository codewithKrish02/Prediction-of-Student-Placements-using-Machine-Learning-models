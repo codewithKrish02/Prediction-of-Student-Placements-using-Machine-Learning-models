{
 "cells": [
  {
   "cell_type": "markdown",
   "id": "cd653e94",
   "metadata": {},
   "source": [
    "# Placement Prediction"
   ]
  },
  {
   "cell_type": "markdown",
   "id": "9895167b",
   "metadata": {},
   "source": [
    "#### Aim: The main aim of the project is to predict whether a candidate will get placed or not."
   ]
  },
  {
   "cell_type": "code",
   "execution_count": 1,
   "id": "48ec37cd",
   "metadata": {},
   "outputs": [],
   "source": [
    "# importing the Required libraries.\n",
    "import numpy as np\n",
    "import pandas as pd\n",
    "import matplotlib.pyplot as plt\n",
    "import seaborn as sns\n",
    "import math\n",
    "from collections import Counter\n",
    "from scipy.stats import mode"
   ]
  },
  {
   "cell_type": "code",
   "execution_count": 2,
   "id": "0dbcf13a",
   "metadata": {},
   "outputs": [],
   "source": [
    "import warnings\n",
    "warnings.filterwarnings('ignore')"
   ]
  },
  {
   "cell_type": "code",
   "execution_count": 3,
   "id": "99998ec5",
   "metadata": {},
   "outputs": [],
   "source": [
    "# loading the dataset into the project\n",
    "data = pd.read_csv(\"Placement_Data_Full_Class.csv\")"
   ]
  },
  {
   "cell_type": "code",
   "execution_count": 4,
   "id": "ee1ccba6",
   "metadata": {},
   "outputs": [
    {
     "data": {
      "text/html": [
       "<div>\n",
       "<style scoped>\n",
       "    .dataframe tbody tr th:only-of-type {\n",
       "        vertical-align: middle;\n",
       "    }\n",
       "\n",
       "    .dataframe tbody tr th {\n",
       "        vertical-align: top;\n",
       "    }\n",
       "\n",
       "    .dataframe thead th {\n",
       "        text-align: right;\n",
       "    }\n",
       "</style>\n",
       "<table border=\"1\" class=\"dataframe\">\n",
       "  <thead>\n",
       "    <tr style=\"text-align: right;\">\n",
       "      <th></th>\n",
       "      <th>sl_no</th>\n",
       "      <th>gender</th>\n",
       "      <th>ssc_p</th>\n",
       "      <th>ssc_b</th>\n",
       "      <th>hsc_p</th>\n",
       "      <th>hsc_b</th>\n",
       "      <th>hsc_s</th>\n",
       "      <th>degree_p</th>\n",
       "      <th>degree_t</th>\n",
       "      <th>workex</th>\n",
       "      <th>etest_p</th>\n",
       "      <th>specialisation</th>\n",
       "      <th>mba_p</th>\n",
       "      <th>status</th>\n",
       "      <th>salary</th>\n",
       "    </tr>\n",
       "  </thead>\n",
       "  <tbody>\n",
       "    <tr>\n",
       "      <th>0</th>\n",
       "      <td>1</td>\n",
       "      <td>M</td>\n",
       "      <td>67.00</td>\n",
       "      <td>Others</td>\n",
       "      <td>91.00</td>\n",
       "      <td>Others</td>\n",
       "      <td>Commerce</td>\n",
       "      <td>58.00</td>\n",
       "      <td>Sci&amp;Tech</td>\n",
       "      <td>No</td>\n",
       "      <td>55.0</td>\n",
       "      <td>Mkt&amp;HR</td>\n",
       "      <td>58.80</td>\n",
       "      <td>Placed</td>\n",
       "      <td>270000.0</td>\n",
       "    </tr>\n",
       "    <tr>\n",
       "      <th>1</th>\n",
       "      <td>2</td>\n",
       "      <td>M</td>\n",
       "      <td>79.33</td>\n",
       "      <td>Central</td>\n",
       "      <td>78.33</td>\n",
       "      <td>Others</td>\n",
       "      <td>Science</td>\n",
       "      <td>77.48</td>\n",
       "      <td>Sci&amp;Tech</td>\n",
       "      <td>Yes</td>\n",
       "      <td>86.5</td>\n",
       "      <td>Mkt&amp;Fin</td>\n",
       "      <td>66.28</td>\n",
       "      <td>Placed</td>\n",
       "      <td>200000.0</td>\n",
       "    </tr>\n",
       "    <tr>\n",
       "      <th>2</th>\n",
       "      <td>3</td>\n",
       "      <td>M</td>\n",
       "      <td>65.00</td>\n",
       "      <td>Central</td>\n",
       "      <td>68.00</td>\n",
       "      <td>Central</td>\n",
       "      <td>Arts</td>\n",
       "      <td>64.00</td>\n",
       "      <td>Comm&amp;Mgmt</td>\n",
       "      <td>No</td>\n",
       "      <td>75.0</td>\n",
       "      <td>Mkt&amp;Fin</td>\n",
       "      <td>57.80</td>\n",
       "      <td>Placed</td>\n",
       "      <td>250000.0</td>\n",
       "    </tr>\n",
       "    <tr>\n",
       "      <th>3</th>\n",
       "      <td>4</td>\n",
       "      <td>M</td>\n",
       "      <td>56.00</td>\n",
       "      <td>Central</td>\n",
       "      <td>52.00</td>\n",
       "      <td>Central</td>\n",
       "      <td>Science</td>\n",
       "      <td>52.00</td>\n",
       "      <td>Sci&amp;Tech</td>\n",
       "      <td>No</td>\n",
       "      <td>66.0</td>\n",
       "      <td>Mkt&amp;HR</td>\n",
       "      <td>59.43</td>\n",
       "      <td>Not Placed</td>\n",
       "      <td>NaN</td>\n",
       "    </tr>\n",
       "    <tr>\n",
       "      <th>4</th>\n",
       "      <td>5</td>\n",
       "      <td>M</td>\n",
       "      <td>85.80</td>\n",
       "      <td>Central</td>\n",
       "      <td>73.60</td>\n",
       "      <td>Central</td>\n",
       "      <td>Commerce</td>\n",
       "      <td>73.30</td>\n",
       "      <td>Comm&amp;Mgmt</td>\n",
       "      <td>No</td>\n",
       "      <td>96.8</td>\n",
       "      <td>Mkt&amp;Fin</td>\n",
       "      <td>55.50</td>\n",
       "      <td>Placed</td>\n",
       "      <td>425000.0</td>\n",
       "    </tr>\n",
       "  </tbody>\n",
       "</table>\n",
       "</div>"
      ],
      "text/plain": [
       "   sl_no gender  ssc_p    ssc_b  hsc_p    hsc_b     hsc_s  degree_p  \\\n",
       "0      1      M  67.00   Others  91.00   Others  Commerce     58.00   \n",
       "1      2      M  79.33  Central  78.33   Others   Science     77.48   \n",
       "2      3      M  65.00  Central  68.00  Central      Arts     64.00   \n",
       "3      4      M  56.00  Central  52.00  Central   Science     52.00   \n",
       "4      5      M  85.80  Central  73.60  Central  Commerce     73.30   \n",
       "\n",
       "    degree_t workex  etest_p specialisation  mba_p      status    salary  \n",
       "0   Sci&Tech     No     55.0         Mkt&HR  58.80      Placed  270000.0  \n",
       "1   Sci&Tech    Yes     86.5        Mkt&Fin  66.28      Placed  200000.0  \n",
       "2  Comm&Mgmt     No     75.0        Mkt&Fin  57.80      Placed  250000.0  \n",
       "3   Sci&Tech     No     66.0         Mkt&HR  59.43  Not Placed       NaN  \n",
       "4  Comm&Mgmt     No     96.8        Mkt&Fin  55.50      Placed  425000.0  "
      ]
     },
     "execution_count": 4,
     "metadata": {},
     "output_type": "execute_result"
    }
   ],
   "source": [
    "# print the first 10 rows from the data\n",
    "data.head()"
   ]
  },
  {
   "cell_type": "markdown",
   "id": "b7b4c97b",
   "metadata": {},
   "source": [
    "- Here we have Multiple features in the dataset like Gender, SSC_P (Secondary School Percentage), Degree percentage, Work Experience, Specialisation, MBA percentage, status and salary.\n",
    "- Here on having a clear look up on the Status columnand the Salary column, if the student is not placed then the salary of the Student is a NaN. We need to remove those missing values.\n",
    "\n",
    "##### Lets see what are all the columns having the null values and remove them accordingly."
   ]
  },
  {
   "cell_type": "code",
   "execution_count": 5,
   "id": "b2d9b128",
   "metadata": {},
   "outputs": [
    {
     "data": {
      "text/plain": [
       "(215, 15)"
      ]
     },
     "execution_count": 5,
     "metadata": {},
     "output_type": "execute_result"
    }
   ],
   "source": [
    "data.shape"
   ]
  },
  {
   "cell_type": "code",
   "execution_count": 6,
   "id": "965f3902",
   "metadata": {},
   "outputs": [
    {
     "data": {
      "text/plain": [
       "sl_no              0\n",
       "gender             0\n",
       "ssc_p              0\n",
       "ssc_b              0\n",
       "hsc_p              0\n",
       "hsc_b              0\n",
       "hsc_s              0\n",
       "degree_p           0\n",
       "degree_t           0\n",
       "workex             0\n",
       "etest_p            0\n",
       "specialisation     0\n",
       "mba_p              0\n",
       "status             0\n",
       "salary            67\n",
       "dtype: int64"
      ]
     },
     "execution_count": 6,
     "metadata": {},
     "output_type": "execute_result"
    }
   ],
   "source": [
    "data.isnull().sum()"
   ]
  },
  {
   "cell_type": "markdown",
   "id": "70973af2",
   "metadata": {},
   "source": [
    "-  Only the Salary column has the 67 instances with null values in the whole data set containing 215 instances.\n",
    "\n",
    "\n",
    "To handle the missing values in the data lets create a duplicate of the original data and manipulate the duplicate."
   ]
  },
  {
   "cell_type": "code",
   "execution_count": 7,
   "id": "76b8b637",
   "metadata": {},
   "outputs": [
    {
     "data": {
      "text/plain": [
       "(215, 15)"
      ]
     },
     "execution_count": 7,
     "metadata": {},
     "output_type": "execute_result"
    }
   ],
   "source": [
    "dup_data = data.copy()\n",
    "dup_data.shape"
   ]
  },
  {
   "cell_type": "markdown",
   "id": "ff9a0b30",
   "metadata": {},
   "source": [
    "### Exploring the Data"
   ]
  },
  {
   "cell_type": "markdown",
   "id": "8b550f67",
   "metadata": {},
   "source": [
    "- We will try exploring each feature one by one using the graphs and get the information of them\n",
    "    - Gender.\n",
    "    - Secondary Board of Educations and Secondary Board Percentage.\n",
    "    - Higher Secondary Education and Higher secondary Percentage.\n",
    "    - Undergraduation Percentage and Under Graduation Field.\n",
    "    - Work Experience.\n",
    "    - Post Graduation Specialisation.\n",
    "    - Post graduation percentage."
   ]
  },
  {
   "cell_type": "markdown",
   "id": "cb0191be",
   "metadata": {},
   "source": [
    "### Gender"
   ]
  },
  {
   "cell_type": "code",
   "execution_count": 8,
   "id": "aa000084",
   "metadata": {},
   "outputs": [
    {
     "data": {
      "image/png": "[encoded data removed]",
      "text/plain": [
       "<Figure size 720x360 with 1 Axes>"
      ]
     },
     "metadata": {
      "needs_background": "light"
     },
     "output_type": "display_data"
    }
   ],
   "source": [
    "plt.figure(figsize = (10,5))\n",
    "count, bins, _ = plt.hist(dup_data['gender'])\n",
    "\n",
    "for n,b in zip(count,bins):\n",
    "    plt.gca().text(b+.03, n, str(n))"
   ]
  },
  {
   "cell_type": "markdown",
   "id": "f0875bbf",
   "metadata": {},
   "source": [
    "- There are 139 instances with Gender 'M' and 76 instances with Gender 'F'"
   ]
  },
  {
   "cell_type": "code",
   "execution_count": 9,
   "id": "c9e5ee6b",
   "metadata": {},
   "outputs": [
    {
     "data": {
      "image/png": "[encoded data removed]",
      "text/plain": [
       "<Figure size 720x360 with 1 Axes>"
      ]
     },
     "metadata": {
      "needs_background": "light"
     },
     "output_type": "display_data"
    }
   ],
   "source": [
    "plt.figure(figsize=(10, 5))\n",
    "ax = sns.countplot(\"gender\", hue=\"status\", data=dup_data)\n",
    "for i in ax.patches:\n",
    "    ax.annotate(i.get_height(), (i.get_x() + i.get_width()/2, i.get_height()))"
   ]
  },
  {
   "cell_type": "markdown",
   "id": "68a4eacd",
   "metadata": {},
   "source": [
    "- Here from the above diagram we can see that 100 Male students got placement and only 48 Female Students got placed."
   ]
  },
  {
   "cell_type": "code",
   "execution_count": 10,
   "id": "302b0395",
   "metadata": {},
   "outputs": [
    {
     "data": {
      "text/plain": [
       "Text(0.5, 0, 'Salary (100k)')"
      ]
     },
     "execution_count": 10,
     "metadata": {},
     "output_type": "execute_result"
    },
    {
     "data": {
      "image/png": "[encoded data removed]",
      "text/plain": [
       "<Figure size 864x504 with 1 Axes>"
      ]
     },
     "metadata": {
      "needs_background": "light"
     },
     "output_type": "display_data"
    }
   ],
   "source": [
    "plt.figure(figsize=(12, 7))\n",
    "sns.kdeplot(dup_data.salary[dup_data.gender==\"M\"])\n",
    "sns.kdeplot(dup_data.salary[dup_data.gender==\"F\"])\n",
    "plt.legend([\"Male\", \"Female\"])\n",
    "plt.xlabel(\"Salary (100k)\")"
   ]
  },
  {
   "cell_type": "code",
   "execution_count": 11,
   "id": "ac2fecfc",
   "metadata": {},
   "outputs": [
    {
     "data": {
      "text/plain": [
       "<AxesSubplot:xlabel='salary', ylabel='gender'>"
      ]
     },
     "execution_count": 11,
     "metadata": {},
     "output_type": "execute_result"
    },
    {
     "data": {
      "image/png": "[encoded data removed]",
      "text/plain": [
       "<Figure size 1080x360 with 1 Axes>"
      ]
     },
     "metadata": {
      "needs_background": "light"
     },
     "output_type": "display_data"
    }
   ],
   "source": [
    "plt.figure(figsize =(15, 5))\n",
    "sns.boxplot(\"salary\", \"gender\", data=dup_data)"
   ]
  },
  {
   "cell_type": "markdown",
   "id": "e0abc78f",
   "metadata": {},
   "source": [
    "###### Sumarizing the above graphs we can say that we have 139 Male students and 76 Female students. In that we have 39 Male who did not get placed and 28 Females who did not get the placement. And from the above box plot we can see that Male students are offered with high salary than the females."
   ]
  },
  {
   "cell_type": "markdown",
   "id": "a27afa2a",
   "metadata": {},
   "source": [
    "### Secondary Board of Educations"
   ]
  },
  {
   "cell_type": "code",
   "execution_count": 12,
   "id": "6650859d",
   "metadata": {},
   "outputs": [
    {
     "data": {
      "image/png": "[encoded data removed]",
      "text/plain": [
       "<Figure size 864x576 with 1 Axes>"
      ]
     },
     "metadata": {
      "needs_background": "light"
     },
     "output_type": "display_data"
    }
   ],
   "source": [
    "plt.figure(figsize=(12, 8))\n",
    "counts, bins, _ = plt.hist(dup_data['ssc_b'])\n",
    "\n",
    "for n, b in zip(counts, bins):\n",
    "    plt.gca().text(b+0.03, n, str(n))"
   ]
  },
  {
   "cell_type": "code",
   "execution_count": 13,
   "id": "f56cd35f",
   "metadata": {},
   "outputs": [
    {
     "data": {
      "image/png": "[encoded data removed]",
      "text/plain": [
       "<Figure size 864x504 with 1 Axes>"
      ]
     },
     "metadata": {
      "needs_background": "light"
     },
     "output_type": "display_data"
    }
   ],
   "source": [
    "plt.figure(figsize=(12, 7))\n",
    "ax = sns.countplot(\"ssc_b\", hue=\"status\", data=dup_data)\n",
    "for i in ax.patches:\n",
    "    ax.annotate(i.get_height(), (i.get_x() + i.get_width()/2, i.get_height()))"
   ]
  },
  {
   "cell_type": "code",
   "execution_count": 14,
   "id": "c983a4d2",
   "metadata": {},
   "outputs": [
    {
     "data": {
      "text/plain": [
       "Text(0.5, 0, 'Secondary Education Percentage')"
      ]
     },
     "execution_count": 14,
     "metadata": {},
     "output_type": "execute_result"
    },
    {
     "data": {
      "image/png": "[encoded data removed]",
      "text/plain": [
       "<Figure size 864x576 with 1 Axes>"
      ]
     },
     "metadata": {
      "needs_background": "light"
     },
     "output_type": "display_data"
    }
   ],
   "source": [
    "plt.figure(figsize=(12, 8))\n",
    "sns.kdeplot(dup_data.ssc_p[dup_data.status==\"Placed\"])\n",
    "sns.kdeplot(dup_data.ssc_p[dup_data.status==\"Not Placed\"])\n",
    "plt.legend([\"Placed\", \"Not Placed\"])\n",
    "plt.xlabel(\"Secondary Education Percentage\")"
   ]
  },
  {
   "cell_type": "code",
   "execution_count": 15,
   "id": "07ddf017",
   "metadata": {},
   "outputs": [
    {
     "data": {
      "text/plain": [
       "<AxesSubplot:xlabel='salary', ylabel='ssc_b'>"
      ]
     },
     "execution_count": 15,
     "metadata": {},
     "output_type": "execute_result"
    },
    {
     "data": {
      "image/png": "[encoded data removed]",
      "text/plain": [
       "<Figure size 1296x432 with 1 Axes>"
      ]
     },
     "metadata": {
      "needs_background": "light"
     },
     "output_type": "display_data"
    }
   ],
   "source": [
    "plt.figure(figsize =(18, 6))\n",
    "sns.boxplot(\"salary\", \"ssc_b\", data=dup_data)"
   ]
  },
  {
   "cell_type": "markdown",
   "id": "e48f6165",
   "metadata": {},
   "source": [
    "From the above graphs we can say that we have 116 students from central Board and 99 students from the Other boards of Educations. And clearly we can see that there is not mch difference between the students getting placed and not placed with  board of education. The board of Education is not Affecting the Salary anymore."
   ]
  },
  {
   "cell_type": "markdown",
   "id": "f9593346",
   "metadata": {},
   "source": [
    "### Higher Secondary Education"
   ]
  },
  {
   "cell_type": "code",
   "execution_count": 16,
   "id": "40620d6a",
   "metadata": {},
   "outputs": [
    {
     "data": {
      "image/png": "[encoded data removed]",
      "text/plain": [
       "<Figure size 864x576 with 1 Axes>"
      ]
     },
     "metadata": {
      "needs_background": "light"
     },
     "output_type": "display_data"
    }
   ],
   "source": [
    "plt.figure(figsize=(12, 8))\n",
    "counts, bins, _ = plt.hist(dup_data['hsc_b'])\n",
    "\n",
    "for n, b in zip(counts, bins):\n",
    "    plt.gca().text(b+0.03, n, str(n))"
   ]
  },
  {
   "cell_type": "markdown",
   "id": "331107dd",
   "metadata": {},
   "source": [
    "- We hav 84 instances from Central Board and 131 instances from other board of education at their Higher Secondary Education."
   ]
  },
  {
   "cell_type": "code",
   "execution_count": 17,
   "id": "2ac19bea",
   "metadata": {},
   "outputs": [
    {
     "data": {
      "image/png": "[encoded data removed]",
      "text/plain": [
       "<Figure size 864x576 with 1 Axes>"
      ]
     },
     "metadata": {
      "needs_background": "light"
     },
     "output_type": "display_data"
    }
   ],
   "source": [
    "plt.figure(figsize=(12, 8))\n",
    "counts, bins, _ = plt.hist(dup_data['hsc_s'])\n",
    "\n",
    "for n, b in zip(counts, bins):\n",
    "    plt.gca().text(b+0.03, n, str(n))"
   ]
  },
  {
   "cell_type": "markdown",
   "id": "56813e33",
   "metadata": {},
   "source": [
    "- We have samples of 113 Commerce students, 91 students from Science and 11 students from Arts."
   ]
  },
  {
   "cell_type": "code",
   "execution_count": 18,
   "id": "79cad142",
   "metadata": {},
   "outputs": [
    {
     "data": {
      "image/png": "[encoded data removed]",
      "text/plain": [
       "<Figure size 864x504 with 1 Axes>"
      ]
     },
     "metadata": {
      "needs_background": "light"
     },
     "output_type": "display_data"
    }
   ],
   "source": [
    "plt.figure(figsize=(12, 7))\n",
    "ax = sns.countplot(\"hsc_b\", hue=\"status\", data=dup_data)\n",
    "for i in ax.patches:\n",
    "    ax.annotate(i.get_height(), (i.get_x() + i.get_width()/2, i.get_height()))"
   ]
  },
  {
   "cell_type": "code",
   "execution_count": 20,
   "id": "931f5eb2",
   "metadata": {},
   "outputs": [
    {
     "data": {
      "image/png": "[encoded data removed]",
      "text/plain": [
       "<Figure size 864x504 with 1 Axes>"
      ]
     },
     "metadata": {
      "needs_background": "light"
     },
     "output_type": "display_data"
    }
   ],
   "source": [
    "plt.figure(figsize=(12, 7))\n",
    "ax = sns.countplot(\"hsc_s\", hue=\"status\", data=dup_data)\n",
    "for i in ax.patches:\n",
    "    ax.annotate(i.get_height(), (i.get_x() + i.get_width()/2, i.get_height()))"
   ]
  },
  {
   "cell_type": "markdown",
   "id": "f01e5035",
   "metadata": {},
   "source": [
    "- In the data we have very less students with Arts Specialisation\n",
    "- There is approximately 1:2 ration between unplaced and placed ratio with both Commerce and Science students"
   ]
  },
  {
   "cell_type": "code",
   "execution_count": 19,
   "id": "0a72c8da",
   "metadata": {},
   "outputs": [
    {
     "data": {
      "text/plain": [
       "<AxesSubplot:xlabel='salary', ylabel='hsc_b'>"
      ]
     },
     "execution_count": 19,
     "metadata": {},
     "output_type": "execute_result"
    },
    {
     "data": {
      "image/png": "[encoded data removed]",
      "text/plain": [
       "<Figure size 1296x432 with 1 Axes>"
      ]
     },
     "metadata": {
      "needs_background": "light"
     },
     "output_type": "display_data"
    }
   ],
   "source": [
    "plt.figure(figsize =(18, 6))\n",
    "sns.boxplot(\"salary\", \"hsc_b\", data=dup_data)"
   ]
  },
  {
   "cell_type": "markdown",
   "id": "371cbde3",
   "metadata": {},
   "source": [
    "- Here we can see Central Board has the highest package comapared to Other board students. And There are more high packages from Other board students. So, there is not much affect of Board of education on placement and package here also."
   ]
  },
  {
   "cell_type": "code",
   "execution_count": 21,
   "id": "ccd5d536",
   "metadata": {},
   "outputs": [
    {
     "data": {
      "text/plain": [
       "<AxesSubplot:xlabel='salary', ylabel='hsc_s'>"
      ]
     },
     "execution_count": 21,
     "metadata": {},
     "output_type": "execute_result"
    },
    {
     "data": {
      "image/png": "[encoded data removed]",
      "text/plain": [
       "<Figure size 1296x432 with 1 Axes>"
      ]
     },
     "metadata": {
      "needs_background": "light"
     },
     "output_type": "display_data"
    }
   ],
   "source": [
    "plt.figure(figsize =(18, 6))\n",
    "sns.boxplot(\"salary\", \"hsc_s\", data=dup_data)"
   ]
  },
  {
   "cell_type": "markdown",
   "id": "f7b2eced",
   "metadata": {},
   "source": [
    "- Commerce students have higher package compared to other branch students"
   ]
  },
  {
   "cell_type": "code",
   "execution_count": 22,
   "id": "02a5d4be",
   "metadata": {},
   "outputs": [
    {
     "data": {
      "text/plain": [
       "Text(0.5, 0, 'Higher Secondary Education Percentage')"
      ]
     },
     "execution_count": 22,
     "metadata": {},
     "output_type": "execute_result"
    },
    {
     "data": {
      "image/png": "[encoded data removed]",
      "text/plain": [
       "<Figure size 720x360 with 1 Axes>"
      ]
     },
     "metadata": {
      "needs_background": "light"
     },
     "output_type": "display_data"
    }
   ],
   "source": [
    "plt.figure(figsize=(10, 5))\n",
    "sns.kdeplot(dup_data.hsc_p[dup_data.status==\"Placed\"])\n",
    "sns.kdeplot(dup_data.hsc_p[dup_data.status==\"Not Placed\"])\n",
    "plt.legend([\"Placed\", \"Not Placed\"])\n",
    "plt.xlabel(\"Higher Secondary Education Percentage\")"
   ]
  },
  {
   "cell_type": "markdown",
   "id": "ea0d6aed",
   "metadata": {},
   "source": [
    "- Percentage must be atleast 60% or above to get more placements."
   ]
  },
  {
   "cell_type": "code",
   "execution_count": 23,
   "id": "8984f68b",
   "metadata": {},
   "outputs": [
    {
     "data": {
      "text/plain": [
       "<AxesSubplot:xlabel='hsc_p', ylabel='salary'>"
      ]
     },
     "execution_count": 23,
     "metadata": {},
     "output_type": "execute_result"
    },
    {
     "data": {
      "image/png": "[encoded data removed]",
      "text/plain": [
       "<Figure size 864x504 with 1 Axes>"
      ]
     },
     "metadata": {
      "needs_background": "light"
     },
     "output_type": "display_data"
    }
   ],
   "source": [
    "plt.figure(figsize=(12, 7))\n",
    "sns.lineplot(\"hsc_p\", \"salary\", hue=\"hsc_b\", data=dup_data)"
   ]
  },
  {
   "cell_type": "markdown",
   "id": "8663e2da",
   "metadata": {},
   "source": [
    "- As we have discussed before at the box plot between the board of education and salary, here we can see a diagram which tells the information of salary higher secondary percentage with their board.\n",
    "    - we can see a high salary for both central and other board of education.\n",
    "    - High salary for both high and low percentage.\n",
    "    - Both the board of education and high school percentage does not affect the salary."
   ]
  },
  {
   "cell_type": "code",
   "execution_count": 24,
   "id": "d2227ebe",
   "metadata": {},
   "outputs": [
    {
     "data": {
      "text/plain": [
       "<AxesSubplot:xlabel='hsc_p', ylabel='salary'>"
      ]
     },
     "execution_count": 24,
     "metadata": {},
     "output_type": "execute_result"
    },
    {
     "data": {
      "image/png": "[encoded data removed]",
      "text/plain": [
       "<Figure size 864x504 with 1 Axes>"
      ]
     },
     "metadata": {
      "needs_background": "light"
     },
     "output_type": "display_data"
    }
   ],
   "source": [
    "plt.figure(figsize=(12, 7))\n",
    "sns.lineplot(\"hsc_p\", \"salary\", hue=\"hsc_s\", data=dup_data)"
   ]
  },
  {
   "cell_type": "markdown",
   "id": "e02a839c",
   "metadata": {},
   "source": [
    "- In the above graph we can see that students with Arts specialisation have low salary."
   ]
  },
  {
   "cell_type": "markdown",
   "id": "8a6150a5",
   "metadata": {},
   "source": [
    "### Degree percentage and Field of Study in Degree"
   ]
  },
  {
   "cell_type": "code",
   "execution_count": 25,
   "id": "4cf09348",
   "metadata": {},
   "outputs": [
    {
     "data": {
      "image/png": "[encoded data removed]",
      "text/plain": [
       "<Figure size 864x504 with 1 Axes>"
      ]
     },
     "metadata": {
      "needs_background": "light"
     },
     "output_type": "display_data"
    }
   ],
   "source": [
    "plt.figure(figsize=(12, 7))\n",
    "counts, bins, _ = plt.hist(dup_data['degree_t'])\n",
    "\n",
    "for n, b in zip(counts, bins):\n",
    "    plt.gca().text(b+0.03, n, str(n))"
   ]
  },
  {
   "cell_type": "markdown",
   "id": "e00b7fd4",
   "metadata": {},
   "source": [
    "- We have 59 Students from 'Science and Technology' and 145 student s from 'Commerce and Management' and 11 students from remaining braches."
   ]
  },
  {
   "cell_type": "code",
   "execution_count": 26,
   "id": "5b3074c2",
   "metadata": {},
   "outputs": [
    {
     "data": {
      "image/png": "[encoded data removed]",
      "text/plain": [
       "<Figure size 864x504 with 1 Axes>"
      ]
     },
     "metadata": {
      "needs_background": "light"
     },
     "output_type": "display_data"
    }
   ],
   "source": [
    "plt.figure(figsize=(12, 7))\n",
    "ax = sns.countplot(\"degree_t\", hue=\"status\", data=dup_data)\n",
    "for i in ax.patches:\n",
    "    ax.annotate(i.get_height(), (i.get_x() + i.get_width()/2, i.get_height()))"
   ]
  },
  {
   "cell_type": "markdown",
   "id": "2f118bb0",
   "metadata": {},
   "source": [
    "- We have approximately 1:2 ratio between the stuent placed and unplaces for both Science and Commerce & Management Students."
   ]
  },
  {
   "cell_type": "code",
   "execution_count": 27,
   "id": "7e85072e",
   "metadata": {},
   "outputs": [
    {
     "data": {
      "text/plain": [
       "<AxesSubplot:xlabel='salary', ylabel='degree_t'>"
      ]
     },
     "execution_count": 27,
     "metadata": {},
     "output_type": "execute_result"
    },
    {
     "data": {
      "image/png": "[encoded data removed]",
      "text/plain": [
       "<Figure size 1296x432 with 1 Axes>"
      ]
     },
     "metadata": {
      "needs_background": "light"
     },
     "output_type": "display_data"
    }
   ],
   "source": [
    "plt.figure(figsize =(18, 6))\n",
    "sns.boxplot(\"salary\", \"degree_t\", data=dup_data)"
   ]
  },
  {
   "cell_type": "markdown",
   "id": "d14d8e99",
   "metadata": {},
   "source": [
    "- Science & Technology students geting more salary on average and Commerce students got high salary jobs."
   ]
  },
  {
   "cell_type": "code",
   "execution_count": 28,
   "id": "283347d0",
   "metadata": {},
   "outputs": [
    {
     "data": {
      "text/plain": [
       "<AxesSubplot:xlabel='degree_p', ylabel='salary'>"
      ]
     },
     "execution_count": 28,
     "metadata": {},
     "output_type": "execute_result"
    },
    {
     "data": {
      "image/png": "[encoded data removed]",
      "text/plain": [
       "<Figure size 864x504 with 1 Axes>"
      ]
     },
     "metadata": {
      "needs_background": "light"
     },
     "output_type": "display_data"
    }
   ],
   "source": [
    "plt.figure(figsize=(12, 7))\n",
    "sns.lineplot(\"degree_p\", \"salary\", hue=\"degree_t\", data=dup_data)"
   ]
  },
  {
   "cell_type": "markdown",
   "id": "1722ccdb",
   "metadata": {},
   "source": [
    "- There are one or two instances who got high salary jobs for Commerce and Management students. That means they are getting dream jobs Ocassionally.\n",
    "- Atleast we need 55% percentage to get a placement."
   ]
  },
  {
   "cell_type": "markdown",
   "id": "d810b5fe",
   "metadata": {},
   "source": [
    "### Work Experience"
   ]
  },
  {
   "cell_type": "code",
   "execution_count": 29,
   "id": "bc6c9b15",
   "metadata": {},
   "outputs": [
    {
     "data": {
      "image/png": "[encoded data removed]",
      "text/plain": [
       "<Figure size 864x504 with 1 Axes>"
      ]
     },
     "metadata": {
      "needs_background": "light"
     },
     "output_type": "display_data"
    }
   ],
   "source": [
    "plt.figure(figsize=(12, 7))\n",
    "counts, bins, _ = plt.hist(dup_data['workex'])\n",
    "\n",
    "for n, b in zip(counts, bins):\n",
    "    plt.gca().text(b+0.03, n, str(n))"
   ]
  },
  {
   "cell_type": "markdown",
   "id": "79da9c8c",
   "metadata": {},
   "source": [
    "- There are 141 Students without workexperience and 74 students with work experiece."
   ]
  },
  {
   "cell_type": "code",
   "execution_count": 30,
   "id": "ce9b40ea",
   "metadata": {},
   "outputs": [
    {
     "data": {
      "image/png": "[encoded data removed]",
      "text/plain": [
       "<Figure size 864x504 with 1 Axes>"
      ]
     },
     "metadata": {
      "needs_background": "light"
     },
     "output_type": "display_data"
    }
   ],
   "source": [
    "plt.figure(figsize=(12, 7))\n",
    "ax = sns.countplot(\"workex\", hue=\"status\", data=dup_data)\n",
    "for i in ax.patches:\n",
    "    ax.annotate(i.get_height(), (i.get_x() + i.get_width()/2, i.get_height()))"
   ]
  },
  {
   "cell_type": "markdown",
   "id": "9044f610",
   "metadata": {},
   "source": [
    "- Very less number of students are not getting placed even if they have a work experience."
   ]
  },
  {
   "cell_type": "code",
   "execution_count": 31,
   "id": "a849ce32",
   "metadata": {},
   "outputs": [
    {
     "data": {
      "text/plain": [
       "<AxesSubplot:xlabel='salary', ylabel='workex'>"
      ]
     },
     "execution_count": 31,
     "metadata": {},
     "output_type": "execute_result"
    },
    {
     "data": {
      "image/png": "[encoded data removed]",
      "text/plain": [
       "<Figure size 1296x432 with 1 Axes>"
      ]
     },
     "metadata": {
      "needs_background": "light"
     },
     "output_type": "display_data"
    }
   ],
   "source": [
    "plt.figure(figsize =(18, 6))\n",
    "sns.boxplot(\"salary\", \"workex\", data=dup_data)"
   ]
  },
  {
   "cell_type": "markdown",
   "id": "8484a4b5",
   "metadata": {},
   "source": [
    "- Students with Work experience have high salaries compared to students without work experience."
   ]
  },
  {
   "cell_type": "markdown",
   "id": "ce1aa4e5",
   "metadata": {},
   "source": [
    "### Post Gradation Field and Post graduation percentage."
   ]
  },
  {
   "cell_type": "code",
   "execution_count": 32,
   "id": "6270b19a",
   "metadata": {
    "scrolled": false
   },
   "outputs": [
    {
     "data": {
      "image/png": "[encoded data removed]",
      "text/plain": [
       "<Figure size 864x504 with 1 Axes>"
      ]
     },
     "metadata": {
      "needs_background": "light"
     },
     "output_type": "display_data"
    }
   ],
   "source": [
    "plt.figure(figsize=(12, 7))\n",
    "counts, bins, _ = plt.hist(dup_data['specialisation'])\n",
    "\n",
    "for n, b in zip(counts, bins):\n",
    "    plt.gca().text(b+0.03, n, str(n))"
   ]
  },
  {
   "cell_type": "markdown",
   "id": "2a4f806c",
   "metadata": {},
   "source": [
    "- we have 95 Students from 'Marketing and HR' and 120 students from 'Marketing & Finance'"
   ]
  },
  {
   "cell_type": "code",
   "execution_count": 33,
   "id": "d74f27c2",
   "metadata": {},
   "outputs": [
    {
     "data": {
      "image/png": "[encoded data removed]",
      "text/plain": [
       "<Figure size 864x504 with 1 Axes>"
      ]
     },
     "metadata": {
      "needs_background": "light"
     },
     "output_type": "display_data"
    }
   ],
   "source": [
    "plt.figure(figsize=(12, 7))\n",
    "ax = sns.countplot(\"specialisation\", hue=\"status\", data=dup_data)\n",
    "for i in ax.patches:\n",
    "    ax.annotate(i.get_height(), (i.get_x() + i.get_width()/2, i.get_height()))"
   ]
  },
  {
   "cell_type": "markdown",
   "id": "cdd8e220",
   "metadata": {},
   "source": [
    "- Very less number of students are not placed in Marketing and Finance specialisation"
   ]
  },
  {
   "cell_type": "code",
   "execution_count": 34,
   "id": "47f99117",
   "metadata": {},
   "outputs": [
    {
     "data": {
      "text/plain": [
       "<AxesSubplot:xlabel='salary', ylabel='specialisation'>"
      ]
     },
     "execution_count": 34,
     "metadata": {},
     "output_type": "execute_result"
    },
    {
     "data": {
      "image/png": "[encoded data removed]",
      "text/plain": [
       "<Figure size 1296x432 with 1 Axes>"
      ]
     },
     "metadata": {
      "needs_background": "light"
     },
     "output_type": "display_data"
    }
   ],
   "source": [
    "plt.figure(figsize =(18, 6))\n",
    "sns.boxplot(\"salary\", \"specialisation\", data=dup_data)"
   ]
  },
  {
   "cell_type": "markdown",
   "id": "2bfe4f11",
   "metadata": {},
   "source": [
    "More Highly Paid Jobs for Mkt&Fin students"
   ]
  },
  {
   "cell_type": "code",
   "execution_count": 35,
   "id": "342998b9",
   "metadata": {},
   "outputs": [
    {
     "data": {
      "text/plain": [
       "<AxesSubplot:xlabel='mba_p', ylabel='salary'>"
      ]
     },
     "execution_count": 35,
     "metadata": {},
     "output_type": "execute_result"
    },
    {
     "data": {
      "image/png": "[encoded data removed]",
      "text/plain": [
       "<Figure size 864x504 with 1 Axes>"
      ]
     },
     "metadata": {
      "needs_background": "light"
     },
     "output_type": "display_data"
    }
   ],
   "source": [
    "plt.figure(figsize=(12, 7))\n",
    "sns.lineplot(\"mba_p\", \"salary\", hue=\"specialisation\", data=dup_data)"
   ]
  },
  {
   "cell_type": "markdown",
   "id": "9d734773",
   "metadata": {},
   "source": [
    "- Marketing and Finance students have more High salaries"
   ]
  },
  {
   "cell_type": "markdown",
   "id": "db27db30",
   "metadata": {},
   "source": [
    "### Conclusion on the Data Analysis"
   ]
  },
  {
   "cell_type": "markdown",
   "id": "b019b391",
   "metadata": {},
   "source": [
    "- There are many candidates who got placed and receved a package between 2L - 5L.\n",
    "- Theres in only one candidate who got above 9L package.\n",
    "- Most of the students have 60- 85% percentage in their education who got more placements.\n",
    "- Work experience doesnt influence a candidate in the recruitment becuase we have students who did not have work experience but got more number of placements\n",
    "- The academic percentages does not have any influence over the salaries.\n",
    "- There is no use of Board of education towards the salary as well as placemnts so we do not need them."
   ]
  },
  {
   "cell_type": "markdown",
   "id": "58c98eec",
   "metadata": {},
   "source": [
    "### Handling the Mising Values"
   ]
  },
  {
   "cell_type": "markdown",
   "id": "4533f46a",
   "metadata": {},
   "source": [
    "- Here we are removing the NaN value and replacing them to 0"
   ]
  },
  {
   "cell_type": "code",
   "execution_count": 36,
   "id": "4237550e",
   "metadata": {},
   "outputs": [],
   "source": [
    "dup_data['salary'].fillna(value = 0, inplace = True)"
   ]
  },
  {
   "cell_type": "code",
   "execution_count": 37,
   "id": "3bf94785",
   "metadata": {},
   "outputs": [
    {
     "data": {
      "text/plain": [
       "sl_no             0\n",
       "gender            0\n",
       "ssc_p             0\n",
       "ssc_b             0\n",
       "hsc_p             0\n",
       "hsc_b             0\n",
       "hsc_s             0\n",
       "degree_p          0\n",
       "degree_t          0\n",
       "workex            0\n",
       "etest_p           0\n",
       "specialisation    0\n",
       "mba_p             0\n",
       "status            0\n",
       "salary            0\n",
       "dtype: int64"
      ]
     },
     "execution_count": 37,
     "metadata": {},
     "output_type": "execute_result"
    }
   ],
   "source": [
    "dup_data.isnull().sum()"
   ]
  },
  {
   "cell_type": "markdown",
   "id": "943c4f0f",
   "metadata": {},
   "source": [
    "- Now there are no null values in the dataset."
   ]
  },
  {
   "cell_type": "markdown",
   "id": "2b31db44",
   "metadata": {},
   "source": [
    "Now, lets have some exploration over the data before moving to any other Execution for the prediction"
   ]
  },
  {
   "cell_type": "markdown",
   "id": "e533b6e8",
   "metadata": {},
   "source": [
    "### Outlier Detection"
   ]
  },
  {
   "cell_type": "markdown",
   "id": "156fbf8b",
   "metadata": {},
   "source": [
    "To see whether we have outliers or not we use the Box plots"
   ]
  },
  {
   "cell_type": "code",
   "execution_count": 38,
   "id": "b3173851",
   "metadata": {},
   "outputs": [
    {
     "data": {
      "text/plain": [
       "Text(0.5, 1.0, 'Degree Percenage')"
      ]
     },
     "execution_count": 38,
     "metadata": {},
     "output_type": "execute_result"
    },
    {
     "data": {
      "image/png": "[encoded data removed]",
      "text/plain": [
       "<Figure size 432x288 with 1 Axes>"
      ]
     },
     "metadata": {
      "needs_background": "light"
     },
     "output_type": "display_data"
    }
   ],
   "source": [
    "# Box plot for the Degree percentage\n",
    "\n",
    "ax = plt.subplot(111)\n",
    "plt.boxplot(dup_data['degree_p'])\n",
    "ax.set_title('Degree Percenage')"
   ]
  },
  {
   "cell_type": "markdown",
   "id": "3cf82768",
   "metadata": {},
   "source": [
    "We have only one outlier in the Degree percentage feature, and this will not effect out model at the time of our prediction."
   ]
  },
  {
   "cell_type": "code",
   "execution_count": 39,
   "id": "8b9c06ec",
   "metadata": {},
   "outputs": [
    {
     "data": {
      "text/plain": [
       "Text(0.5, 1.0, 'Employability Percentage')"
      ]
     },
     "execution_count": 39,
     "metadata": {},
     "output_type": "execute_result"
    },
    {
     "data": {
      "image/png": "[encoded data removed]",
      "text/plain": [
       "<Figure size 432x288 with 1 Axes>"
      ]
     },
     "metadata": {
      "needs_background": "light"
     },
     "output_type": "display_data"
    }
   ],
   "source": [
    "# box plot of Employability percentage\n",
    "\n",
    "ax = plt.subplot(111)\n",
    "plt.boxplot(dup_data['etest_p'])\n",
    "ax.set_title('Employability Percentage')"
   ]
  },
  {
   "cell_type": "code",
   "execution_count": null,
   "id": "ade5771f",
   "metadata": {},
   "outputs": [],
   "source": [
    "# Box plot for the Secondary school percentage\n",
    "\n",
    "ax = plt.subplot(111)\n",
    "plt.boxplot(dup_data['ssc_p'])\n",
    "ax.set_title('Secondary School Percentage')"
   ]
  },
  {
   "cell_type": "markdown",
   "id": "14940442",
   "metadata": {},
   "source": [
    "The Employability Percentage and Secondary School percentage doesn't have any outliers"
   ]
  },
  {
   "cell_type": "markdown",
   "id": "5bc8f65f",
   "metadata": {},
   "source": [
    "Lets check with other columns as well..."
   ]
  },
  {
   "cell_type": "code",
   "execution_count": 40,
   "id": "a7793bb4",
   "metadata": {},
   "outputs": [
    {
     "data": {
      "text/plain": [
       "Text(0.5, 1.0, 'Higher Secondary School Percentage')"
      ]
     },
     "execution_count": 40,
     "metadata": {},
     "output_type": "execute_result"
    },
    {
     "data": {
      "image/png": "[encoded data removed]",
      "text/plain": [
       "<Figure size 432x288 with 1 Axes>"
      ]
     },
     "metadata": {
      "needs_background": "light"
     },
     "output_type": "display_data"
    }
   ],
   "source": [
    "# Box plot for the Higher Secondary school percentage\n",
    "\n",
    "ax = plt.subplot(111)\n",
    "plt.boxplot(dup_data['hsc_p'])\n",
    "ax.set_title('Higher Secondary School Percentage')"
   ]
  },
  {
   "cell_type": "markdown",
   "id": "8a6b2c84",
   "metadata": {},
   "source": [
    "### Feature Extraction"
   ]
  },
  {
   "cell_type": "markdown",
   "id": "0a17f228",
   "metadata": {},
   "source": [
    "In the dataset we have serial number, name of the education board which are useless for placement. Which means the recruiter will not take a look on your serial number and take a call on the placement.\n",
    "\n",
    "The education board is not a column which does not help in recuriting because it doesn't matter if you have studied in the centeral board or the other board. So we need to remove these columns from our dataset\n",
    "\n",
    "- The final Features we are selecting are:\n",
    "    - Gender\n",
    "    - Secondary Education Percentage\n",
    "    - Higher Secondary Education Percentage\n",
    "    - Specialization in Higher SEcondary Education\n",
    "    - Under-graduation Degree Percentage\n",
    "    - Under Graduation Degree Field.\n",
    "    - Work Experience\n",
    "    - Employablity test percentage\n",
    "    - Specialization\n",
    "    - MBA Percentage"
   ]
  },
  {
   "cell_type": "code",
   "execution_count": 41,
   "id": "75d082cb",
   "metadata": {},
   "outputs": [
    {
     "data": {
      "text/html": [
       "<div>\n",
       "<style scoped>\n",
       "    .dataframe tbody tr th:only-of-type {\n",
       "        vertical-align: middle;\n",
       "    }\n",
       "\n",
       "    .dataframe tbody tr th {\n",
       "        vertical-align: top;\n",
       "    }\n",
       "\n",
       "    .dataframe thead th {\n",
       "        text-align: right;\n",
       "    }\n",
       "</style>\n",
       "<table border=\"1\" class=\"dataframe\">\n",
       "  <thead>\n",
       "    <tr style=\"text-align: right;\">\n",
       "      <th></th>\n",
       "      <th>gender</th>\n",
       "      <th>ssc_p</th>\n",
       "      <th>hsc_p</th>\n",
       "      <th>hsc_s</th>\n",
       "      <th>degree_p</th>\n",
       "      <th>degree_t</th>\n",
       "      <th>workex</th>\n",
       "      <th>etest_p</th>\n",
       "      <th>specialisation</th>\n",
       "      <th>mba_p</th>\n",
       "      <th>status</th>\n",
       "      <th>salary</th>\n",
       "    </tr>\n",
       "  </thead>\n",
       "  <tbody>\n",
       "    <tr>\n",
       "      <th>0</th>\n",
       "      <td>M</td>\n",
       "      <td>67.00</td>\n",
       "      <td>91.00</td>\n",
       "      <td>Commerce</td>\n",
       "      <td>58.00</td>\n",
       "      <td>Sci&amp;Tech</td>\n",
       "      <td>No</td>\n",
       "      <td>55.00</td>\n",
       "      <td>Mkt&amp;HR</td>\n",
       "      <td>58.80</td>\n",
       "      <td>Placed</td>\n",
       "      <td>270000.0</td>\n",
       "    </tr>\n",
       "    <tr>\n",
       "      <th>1</th>\n",
       "      <td>M</td>\n",
       "      <td>79.33</td>\n",
       "      <td>78.33</td>\n",
       "      <td>Science</td>\n",
       "      <td>77.48</td>\n",
       "      <td>Sci&amp;Tech</td>\n",
       "      <td>Yes</td>\n",
       "      <td>86.50</td>\n",
       "      <td>Mkt&amp;Fin</td>\n",
       "      <td>66.28</td>\n",
       "      <td>Placed</td>\n",
       "      <td>200000.0</td>\n",
       "    </tr>\n",
       "    <tr>\n",
       "      <th>2</th>\n",
       "      <td>M</td>\n",
       "      <td>65.00</td>\n",
       "      <td>68.00</td>\n",
       "      <td>Arts</td>\n",
       "      <td>64.00</td>\n",
       "      <td>Comm&amp;Mgmt</td>\n",
       "      <td>No</td>\n",
       "      <td>75.00</td>\n",
       "      <td>Mkt&amp;Fin</td>\n",
       "      <td>57.80</td>\n",
       "      <td>Placed</td>\n",
       "      <td>250000.0</td>\n",
       "    </tr>\n",
       "    <tr>\n",
       "      <th>3</th>\n",
       "      <td>M</td>\n",
       "      <td>56.00</td>\n",
       "      <td>52.00</td>\n",
       "      <td>Science</td>\n",
       "      <td>52.00</td>\n",
       "      <td>Sci&amp;Tech</td>\n",
       "      <td>No</td>\n",
       "      <td>66.00</td>\n",
       "      <td>Mkt&amp;HR</td>\n",
       "      <td>59.43</td>\n",
       "      <td>Not Placed</td>\n",
       "      <td>0.0</td>\n",
       "    </tr>\n",
       "    <tr>\n",
       "      <th>4</th>\n",
       "      <td>M</td>\n",
       "      <td>85.80</td>\n",
       "      <td>73.60</td>\n",
       "      <td>Commerce</td>\n",
       "      <td>73.30</td>\n",
       "      <td>Comm&amp;Mgmt</td>\n",
       "      <td>No</td>\n",
       "      <td>96.80</td>\n",
       "      <td>Mkt&amp;Fin</td>\n",
       "      <td>55.50</td>\n",
       "      <td>Placed</td>\n",
       "      <td>425000.0</td>\n",
       "    </tr>\n",
       "    <tr>\n",
       "      <th>5</th>\n",
       "      <td>M</td>\n",
       "      <td>55.00</td>\n",
       "      <td>49.80</td>\n",
       "      <td>Science</td>\n",
       "      <td>67.25</td>\n",
       "      <td>Sci&amp;Tech</td>\n",
       "      <td>Yes</td>\n",
       "      <td>55.00</td>\n",
       "      <td>Mkt&amp;Fin</td>\n",
       "      <td>51.58</td>\n",
       "      <td>Not Placed</td>\n",
       "      <td>0.0</td>\n",
       "    </tr>\n",
       "    <tr>\n",
       "      <th>6</th>\n",
       "      <td>F</td>\n",
       "      <td>46.00</td>\n",
       "      <td>49.20</td>\n",
       "      <td>Commerce</td>\n",
       "      <td>79.00</td>\n",
       "      <td>Comm&amp;Mgmt</td>\n",
       "      <td>No</td>\n",
       "      <td>74.28</td>\n",
       "      <td>Mkt&amp;Fin</td>\n",
       "      <td>53.29</td>\n",
       "      <td>Not Placed</td>\n",
       "      <td>0.0</td>\n",
       "    </tr>\n",
       "    <tr>\n",
       "      <th>7</th>\n",
       "      <td>M</td>\n",
       "      <td>82.00</td>\n",
       "      <td>64.00</td>\n",
       "      <td>Science</td>\n",
       "      <td>66.00</td>\n",
       "      <td>Sci&amp;Tech</td>\n",
       "      <td>Yes</td>\n",
       "      <td>67.00</td>\n",
       "      <td>Mkt&amp;Fin</td>\n",
       "      <td>62.14</td>\n",
       "      <td>Placed</td>\n",
       "      <td>252000.0</td>\n",
       "    </tr>\n",
       "    <tr>\n",
       "      <th>8</th>\n",
       "      <td>M</td>\n",
       "      <td>73.00</td>\n",
       "      <td>79.00</td>\n",
       "      <td>Commerce</td>\n",
       "      <td>72.00</td>\n",
       "      <td>Comm&amp;Mgmt</td>\n",
       "      <td>No</td>\n",
       "      <td>91.34</td>\n",
       "      <td>Mkt&amp;Fin</td>\n",
       "      <td>61.29</td>\n",
       "      <td>Placed</td>\n",
       "      <td>231000.0</td>\n",
       "    </tr>\n",
       "    <tr>\n",
       "      <th>9</th>\n",
       "      <td>M</td>\n",
       "      <td>58.00</td>\n",
       "      <td>70.00</td>\n",
       "      <td>Commerce</td>\n",
       "      <td>61.00</td>\n",
       "      <td>Comm&amp;Mgmt</td>\n",
       "      <td>No</td>\n",
       "      <td>54.00</td>\n",
       "      <td>Mkt&amp;Fin</td>\n",
       "      <td>52.21</td>\n",
       "      <td>Not Placed</td>\n",
       "      <td>0.0</td>\n",
       "    </tr>\n",
       "  </tbody>\n",
       "</table>\n",
       "</div>"
      ],
      "text/plain": [
       "  gender  ssc_p  hsc_p     hsc_s  degree_p   degree_t workex  etest_p  \\\n",
       "0      M  67.00  91.00  Commerce     58.00   Sci&Tech     No    55.00   \n",
       "1      M  79.33  78.33   Science     77.48   Sci&Tech    Yes    86.50   \n",
       "2      M  65.00  68.00      Arts     64.00  Comm&Mgmt     No    75.00   \n",
       "3      M  56.00  52.00   Science     52.00   Sci&Tech     No    66.00   \n",
       "4      M  85.80  73.60  Commerce     73.30  Comm&Mgmt     No    96.80   \n",
       "5      M  55.00  49.80   Science     67.25   Sci&Tech    Yes    55.00   \n",
       "6      F  46.00  49.20  Commerce     79.00  Comm&Mgmt     No    74.28   \n",
       "7      M  82.00  64.00   Science     66.00   Sci&Tech    Yes    67.00   \n",
       "8      M  73.00  79.00  Commerce     72.00  Comm&Mgmt     No    91.34   \n",
       "9      M  58.00  70.00  Commerce     61.00  Comm&Mgmt     No    54.00   \n",
       "\n",
       "  specialisation  mba_p      status    salary  \n",
       "0         Mkt&HR  58.80      Placed  270000.0  \n",
       "1        Mkt&Fin  66.28      Placed  200000.0  \n",
       "2        Mkt&Fin  57.80      Placed  250000.0  \n",
       "3         Mkt&HR  59.43  Not Placed       0.0  \n",
       "4        Mkt&Fin  55.50      Placed  425000.0  \n",
       "5        Mkt&Fin  51.58  Not Placed       0.0  \n",
       "6        Mkt&Fin  53.29  Not Placed       0.0  \n",
       "7        Mkt&Fin  62.14      Placed  252000.0  \n",
       "8        Mkt&Fin  61.29      Placed  231000.0  \n",
       "9        Mkt&Fin  52.21  Not Placed       0.0  "
      ]
     },
     "execution_count": 41,
     "metadata": {},
     "output_type": "execute_result"
    }
   ],
   "source": [
    "# droping the serial no and board of education details from the dataset\n",
    "dup_data.drop(['sl_no','ssc_b','hsc_b'], axis = 1, inplace = True)\n",
    "dup_data.head(10)"
   ]
  },
  {
   "cell_type": "markdown",
   "id": "6558c2e3",
   "metadata": {},
   "source": [
    "There might be some unusual values in the dataset which might result in having outliers. If in case if we have outliers then we might not get a accurate prediction. so let's check whether we have outliers in the dataset or not."
   ]
  },
  {
   "cell_type": "markdown",
   "id": "02ae2152",
   "metadata": {},
   "source": [
    "### Feature Encoding"
   ]
  },
  {
   "cell_type": "markdown",
   "id": "05ddd558",
   "metadata": {},
   "source": [
    "- In gender we have Male as M and Female as F, so we are changing the M - 0 and F - 1\n",
    "- In work Experience we have Yes and No, so we are changing Yes - 1 and No - 0\n",
    "- In status we have Placed or Not Placed, so we are changing Placed - 1 and Not Placed - 0\n",
    "- In Specialisation we have Mkt&HR or Mkk&Fin, so we are chaning Mkk&Fin - 1 and Mkt&HR - 0"
   ]
  },
  {
   "cell_type": "code",
   "execution_count": 42,
   "id": "312422be",
   "metadata": {},
   "outputs": [],
   "source": [
    "dup_data['gender'] = dup_data.gender.map({\"M\" : 0, \"F\" : 1})\n",
    "dup_data['workex'] = dup_data.workex.map({\"Yes\" : 1, \"No\" : 0})\n",
    "dup_data['status'] = dup_data.status.map({\"Placed\" : 1, \"Not Placed\" : 0})\n",
    "dup_data['specialisation'] = dup_data.specialisation.map({\"Mkt&HR\" : 0, \"Mkt&Fin\" : 1})"
   ]
  },
  {
   "cell_type": "code",
   "execution_count": 43,
   "id": "6c54e7f7",
   "metadata": {},
   "outputs": [
    {
     "data": {
      "text/html": [
       "<div>\n",
       "<style scoped>\n",
       "    .dataframe tbody tr th:only-of-type {\n",
       "        vertical-align: middle;\n",
       "    }\n",
       "\n",
       "    .dataframe tbody tr th {\n",
       "        vertical-align: top;\n",
       "    }\n",
       "\n",
       "    .dataframe thead th {\n",
       "        text-align: right;\n",
       "    }\n",
       "</style>\n",
       "<table border=\"1\" class=\"dataframe\">\n",
       "  <thead>\n",
       "    <tr style=\"text-align: right;\">\n",
       "      <th></th>\n",
       "      <th>gender</th>\n",
       "      <th>ssc_p</th>\n",
       "      <th>hsc_p</th>\n",
       "      <th>hsc_s</th>\n",
       "      <th>degree_p</th>\n",
       "      <th>degree_t</th>\n",
       "      <th>workex</th>\n",
       "      <th>etest_p</th>\n",
       "      <th>specialisation</th>\n",
       "      <th>mba_p</th>\n",
       "      <th>status</th>\n",
       "      <th>salary</th>\n",
       "    </tr>\n",
       "  </thead>\n",
       "  <tbody>\n",
       "    <tr>\n",
       "      <th>0</th>\n",
       "      <td>0</td>\n",
       "      <td>67.00</td>\n",
       "      <td>91.00</td>\n",
       "      <td>Commerce</td>\n",
       "      <td>58.00</td>\n",
       "      <td>Sci&amp;Tech</td>\n",
       "      <td>0</td>\n",
       "      <td>55.0</td>\n",
       "      <td>0</td>\n",
       "      <td>58.80</td>\n",
       "      <td>1</td>\n",
       "      <td>270000.0</td>\n",
       "    </tr>\n",
       "    <tr>\n",
       "      <th>1</th>\n",
       "      <td>0</td>\n",
       "      <td>79.33</td>\n",
       "      <td>78.33</td>\n",
       "      <td>Science</td>\n",
       "      <td>77.48</td>\n",
       "      <td>Sci&amp;Tech</td>\n",
       "      <td>1</td>\n",
       "      <td>86.5</td>\n",
       "      <td>1</td>\n",
       "      <td>66.28</td>\n",
       "      <td>1</td>\n",
       "      <td>200000.0</td>\n",
       "    </tr>\n",
       "    <tr>\n",
       "      <th>2</th>\n",
       "      <td>0</td>\n",
       "      <td>65.00</td>\n",
       "      <td>68.00</td>\n",
       "      <td>Arts</td>\n",
       "      <td>64.00</td>\n",
       "      <td>Comm&amp;Mgmt</td>\n",
       "      <td>0</td>\n",
       "      <td>75.0</td>\n",
       "      <td>1</td>\n",
       "      <td>57.80</td>\n",
       "      <td>1</td>\n",
       "      <td>250000.0</td>\n",
       "    </tr>\n",
       "    <tr>\n",
       "      <th>3</th>\n",
       "      <td>0</td>\n",
       "      <td>56.00</td>\n",
       "      <td>52.00</td>\n",
       "      <td>Science</td>\n",
       "      <td>52.00</td>\n",
       "      <td>Sci&amp;Tech</td>\n",
       "      <td>0</td>\n",
       "      <td>66.0</td>\n",
       "      <td>0</td>\n",
       "      <td>59.43</td>\n",
       "      <td>0</td>\n",
       "      <td>0.0</td>\n",
       "    </tr>\n",
       "    <tr>\n",
       "      <th>4</th>\n",
       "      <td>0</td>\n",
       "      <td>85.80</td>\n",
       "      <td>73.60</td>\n",
       "      <td>Commerce</td>\n",
       "      <td>73.30</td>\n",
       "      <td>Comm&amp;Mgmt</td>\n",
       "      <td>0</td>\n",
       "      <td>96.8</td>\n",
       "      <td>1</td>\n",
       "      <td>55.50</td>\n",
       "      <td>1</td>\n",
       "      <td>425000.0</td>\n",
       "    </tr>\n",
       "    <tr>\n",
       "      <th>...</th>\n",
       "      <td>...</td>\n",
       "      <td>...</td>\n",
       "      <td>...</td>\n",
       "      <td>...</td>\n",
       "      <td>...</td>\n",
       "      <td>...</td>\n",
       "      <td>...</td>\n",
       "      <td>...</td>\n",
       "      <td>...</td>\n",
       "      <td>...</td>\n",
       "      <td>...</td>\n",
       "      <td>...</td>\n",
       "    </tr>\n",
       "    <tr>\n",
       "      <th>210</th>\n",
       "      <td>0</td>\n",
       "      <td>80.60</td>\n",
       "      <td>82.00</td>\n",
       "      <td>Commerce</td>\n",
       "      <td>77.60</td>\n",
       "      <td>Comm&amp;Mgmt</td>\n",
       "      <td>0</td>\n",
       "      <td>91.0</td>\n",
       "      <td>1</td>\n",
       "      <td>74.49</td>\n",
       "      <td>1</td>\n",
       "      <td>400000.0</td>\n",
       "    </tr>\n",
       "    <tr>\n",
       "      <th>211</th>\n",
       "      <td>0</td>\n",
       "      <td>58.00</td>\n",
       "      <td>60.00</td>\n",
       "      <td>Science</td>\n",
       "      <td>72.00</td>\n",
       "      <td>Sci&amp;Tech</td>\n",
       "      <td>0</td>\n",
       "      <td>74.0</td>\n",
       "      <td>1</td>\n",
       "      <td>53.62</td>\n",
       "      <td>1</td>\n",
       "      <td>275000.0</td>\n",
       "    </tr>\n",
       "    <tr>\n",
       "      <th>212</th>\n",
       "      <td>0</td>\n",
       "      <td>67.00</td>\n",
       "      <td>67.00</td>\n",
       "      <td>Commerce</td>\n",
       "      <td>73.00</td>\n",
       "      <td>Comm&amp;Mgmt</td>\n",
       "      <td>1</td>\n",
       "      <td>59.0</td>\n",
       "      <td>1</td>\n",
       "      <td>69.72</td>\n",
       "      <td>1</td>\n",
       "      <td>295000.0</td>\n",
       "    </tr>\n",
       "    <tr>\n",
       "      <th>213</th>\n",
       "      <td>1</td>\n",
       "      <td>74.00</td>\n",
       "      <td>66.00</td>\n",
       "      <td>Commerce</td>\n",
       "      <td>58.00</td>\n",
       "      <td>Comm&amp;Mgmt</td>\n",
       "      <td>0</td>\n",
       "      <td>70.0</td>\n",
       "      <td>0</td>\n",
       "      <td>60.23</td>\n",
       "      <td>1</td>\n",
       "      <td>204000.0</td>\n",
       "    </tr>\n",
       "    <tr>\n",
       "      <th>214</th>\n",
       "      <td>0</td>\n",
       "      <td>62.00</td>\n",
       "      <td>58.00</td>\n",
       "      <td>Science</td>\n",
       "      <td>53.00</td>\n",
       "      <td>Comm&amp;Mgmt</td>\n",
       "      <td>0</td>\n",
       "      <td>89.0</td>\n",
       "      <td>0</td>\n",
       "      <td>60.22</td>\n",
       "      <td>0</td>\n",
       "      <td>0.0</td>\n",
       "    </tr>\n",
       "  </tbody>\n",
       "</table>\n",
       "<p>215 rows × 12 columns</p>\n",
       "</div>"
      ],
      "text/plain": [
       "     gender  ssc_p  hsc_p     hsc_s  degree_p   degree_t  workex  etest_p  \\\n",
       "0         0  67.00  91.00  Commerce     58.00   Sci&Tech       0     55.0   \n",
       "1         0  79.33  78.33   Science     77.48   Sci&Tech       1     86.5   \n",
       "2         0  65.00  68.00      Arts     64.00  Comm&Mgmt       0     75.0   \n",
       "3         0  56.00  52.00   Science     52.00   Sci&Tech       0     66.0   \n",
       "4         0  85.80  73.60  Commerce     73.30  Comm&Mgmt       0     96.8   \n",
       "..      ...    ...    ...       ...       ...        ...     ...      ...   \n",
       "210       0  80.60  82.00  Commerce     77.60  Comm&Mgmt       0     91.0   \n",
       "211       0  58.00  60.00   Science     72.00   Sci&Tech       0     74.0   \n",
       "212       0  67.00  67.00  Commerce     73.00  Comm&Mgmt       1     59.0   \n",
       "213       1  74.00  66.00  Commerce     58.00  Comm&Mgmt       0     70.0   \n",
       "214       0  62.00  58.00   Science     53.00  Comm&Mgmt       0     89.0   \n",
       "\n",
       "     specialisation  mba_p  status    salary  \n",
       "0                 0  58.80       1  270000.0  \n",
       "1                 1  66.28       1  200000.0  \n",
       "2                 1  57.80       1  250000.0  \n",
       "3                 0  59.43       0       0.0  \n",
       "4                 1  55.50       1  425000.0  \n",
       "..              ...    ...     ...       ...  \n",
       "210               1  74.49       1  400000.0  \n",
       "211               1  53.62       1  275000.0  \n",
       "212               1  69.72       1  295000.0  \n",
       "213               0  60.23       1  204000.0  \n",
       "214               0  60.22       0       0.0  \n",
       "\n",
       "[215 rows x 12 columns]"
      ]
     },
     "execution_count": 43,
     "metadata": {},
     "output_type": "execute_result"
    }
   ],
   "source": [
    "dup_data"
   ]
  },
  {
   "cell_type": "markdown",
   "id": "7ffd9b98",
   "metadata": {},
   "source": [
    "- Let's perform One Hot encoding on hsc_s and degree_t features\n",
    "- What we do is we will create some dummies say, we will create 3 new columns for hsc_s called d_commerce and d_science and d_arts.\n",
    "- if the student is Commerce then we will have value 1 in d_commerce and 0 in other columns."
   ]
  },
  {
   "cell_type": "markdown",
   "id": "812732a9",
   "metadata": {},
   "source": [
    "### One Hot Encoding"
   ]
  },
  {
   "cell_type": "code",
   "execution_count": 44,
   "id": "ec95b7ca",
   "metadata": {},
   "outputs": [],
   "source": [
    "d_hsc_s = pd.get_dummies(dup_data['hsc_s'], prefix = 'd_')\n",
    "d_degree_t = pd.get_dummies(dup_data['degree_t'], prefix = 'd_')"
   ]
  },
  {
   "cell_type": "code",
   "execution_count": 45,
   "id": "708f519a",
   "metadata": {},
   "outputs": [
    {
     "data": {
      "text/html": [
       "<div>\n",
       "<style scoped>\n",
       "    .dataframe tbody tr th:only-of-type {\n",
       "        vertical-align: middle;\n",
       "    }\n",
       "\n",
       "    .dataframe tbody tr th {\n",
       "        vertical-align: top;\n",
       "    }\n",
       "\n",
       "    .dataframe thead th {\n",
       "        text-align: right;\n",
       "    }\n",
       "</style>\n",
       "<table border=\"1\" class=\"dataframe\">\n",
       "  <thead>\n",
       "    <tr style=\"text-align: right;\">\n",
       "      <th></th>\n",
       "      <th>d__Arts</th>\n",
       "      <th>d__Commerce</th>\n",
       "      <th>d__Science</th>\n",
       "    </tr>\n",
       "  </thead>\n",
       "  <tbody>\n",
       "    <tr>\n",
       "      <th>0</th>\n",
       "      <td>0</td>\n",
       "      <td>1</td>\n",
       "      <td>0</td>\n",
       "    </tr>\n",
       "    <tr>\n",
       "      <th>1</th>\n",
       "      <td>0</td>\n",
       "      <td>0</td>\n",
       "      <td>1</td>\n",
       "    </tr>\n",
       "    <tr>\n",
       "      <th>2</th>\n",
       "      <td>1</td>\n",
       "      <td>0</td>\n",
       "      <td>0</td>\n",
       "    </tr>\n",
       "    <tr>\n",
       "      <th>3</th>\n",
       "      <td>0</td>\n",
       "      <td>0</td>\n",
       "      <td>1</td>\n",
       "    </tr>\n",
       "    <tr>\n",
       "      <th>4</th>\n",
       "      <td>0</td>\n",
       "      <td>1</td>\n",
       "      <td>0</td>\n",
       "    </tr>\n",
       "    <tr>\n",
       "      <th>5</th>\n",
       "      <td>0</td>\n",
       "      <td>0</td>\n",
       "      <td>1</td>\n",
       "    </tr>\n",
       "    <tr>\n",
       "      <th>6</th>\n",
       "      <td>0</td>\n",
       "      <td>1</td>\n",
       "      <td>0</td>\n",
       "    </tr>\n",
       "    <tr>\n",
       "      <th>7</th>\n",
       "      <td>0</td>\n",
       "      <td>0</td>\n",
       "      <td>1</td>\n",
       "    </tr>\n",
       "    <tr>\n",
       "      <th>8</th>\n",
       "      <td>0</td>\n",
       "      <td>1</td>\n",
       "      <td>0</td>\n",
       "    </tr>\n",
       "    <tr>\n",
       "      <th>9</th>\n",
       "      <td>0</td>\n",
       "      <td>1</td>\n",
       "      <td>0</td>\n",
       "    </tr>\n",
       "  </tbody>\n",
       "</table>\n",
       "</div>"
      ],
      "text/plain": [
       "   d__Arts  d__Commerce  d__Science\n",
       "0        0            1           0\n",
       "1        0            0           1\n",
       "2        1            0           0\n",
       "3        0            0           1\n",
       "4        0            1           0\n",
       "5        0            0           1\n",
       "6        0            1           0\n",
       "7        0            0           1\n",
       "8        0            1           0\n",
       "9        0            1           0"
      ]
     },
     "execution_count": 45,
     "metadata": {},
     "output_type": "execute_result"
    }
   ],
   "source": [
    "d_hsc_s.head(10)"
   ]
  },
  {
   "cell_type": "code",
   "execution_count": 46,
   "id": "a531f879",
   "metadata": {},
   "outputs": [
    {
     "data": {
      "text/html": [
       "<div>\n",
       "<style scoped>\n",
       "    .dataframe tbody tr th:only-of-type {\n",
       "        vertical-align: middle;\n",
       "    }\n",
       "\n",
       "    .dataframe tbody tr th {\n",
       "        vertical-align: top;\n",
       "    }\n",
       "\n",
       "    .dataframe thead th {\n",
       "        text-align: right;\n",
       "    }\n",
       "</style>\n",
       "<table border=\"1\" class=\"dataframe\">\n",
       "  <thead>\n",
       "    <tr style=\"text-align: right;\">\n",
       "      <th></th>\n",
       "      <th>d__Comm&amp;Mgmt</th>\n",
       "      <th>d__Others</th>\n",
       "      <th>d__Sci&amp;Tech</th>\n",
       "    </tr>\n",
       "  </thead>\n",
       "  <tbody>\n",
       "    <tr>\n",
       "      <th>0</th>\n",
       "      <td>0</td>\n",
       "      <td>0</td>\n",
       "      <td>1</td>\n",
       "    </tr>\n",
       "    <tr>\n",
       "      <th>1</th>\n",
       "      <td>0</td>\n",
       "      <td>0</td>\n",
       "      <td>1</td>\n",
       "    </tr>\n",
       "    <tr>\n",
       "      <th>2</th>\n",
       "      <td>1</td>\n",
       "      <td>0</td>\n",
       "      <td>0</td>\n",
       "    </tr>\n",
       "    <tr>\n",
       "      <th>3</th>\n",
       "      <td>0</td>\n",
       "      <td>0</td>\n",
       "      <td>1</td>\n",
       "    </tr>\n",
       "    <tr>\n",
       "      <th>4</th>\n",
       "      <td>1</td>\n",
       "      <td>0</td>\n",
       "      <td>0</td>\n",
       "    </tr>\n",
       "    <tr>\n",
       "      <th>5</th>\n",
       "      <td>0</td>\n",
       "      <td>0</td>\n",
       "      <td>1</td>\n",
       "    </tr>\n",
       "    <tr>\n",
       "      <th>6</th>\n",
       "      <td>1</td>\n",
       "      <td>0</td>\n",
       "      <td>0</td>\n",
       "    </tr>\n",
       "    <tr>\n",
       "      <th>7</th>\n",
       "      <td>0</td>\n",
       "      <td>0</td>\n",
       "      <td>1</td>\n",
       "    </tr>\n",
       "    <tr>\n",
       "      <th>8</th>\n",
       "      <td>1</td>\n",
       "      <td>0</td>\n",
       "      <td>0</td>\n",
       "    </tr>\n",
       "    <tr>\n",
       "      <th>9</th>\n",
       "      <td>1</td>\n",
       "      <td>0</td>\n",
       "      <td>0</td>\n",
       "    </tr>\n",
       "  </tbody>\n",
       "</table>\n",
       "</div>"
      ],
      "text/plain": [
       "   d__Comm&Mgmt  d__Others  d__Sci&Tech\n",
       "0             0          0            1\n",
       "1             0          0            1\n",
       "2             1          0            0\n",
       "3             0          0            1\n",
       "4             1          0            0\n",
       "5             0          0            1\n",
       "6             1          0            0\n",
       "7             0          0            1\n",
       "8             1          0            0\n",
       "9             1          0            0"
      ]
     },
     "execution_count": 46,
     "metadata": {},
     "output_type": "execute_result"
    }
   ],
   "source": [
    "d_degree_t.head(10)"
   ]
  },
  {
   "cell_type": "code",
   "execution_count": 47,
   "id": "05391558",
   "metadata": {},
   "outputs": [
    {
     "data": {
      "text/html": [
       "<div>\n",
       "<style scoped>\n",
       "    .dataframe tbody tr th:only-of-type {\n",
       "        vertical-align: middle;\n",
       "    }\n",
       "\n",
       "    .dataframe tbody tr th {\n",
       "        vertical-align: top;\n",
       "    }\n",
       "\n",
       "    .dataframe thead th {\n",
       "        text-align: right;\n",
       "    }\n",
       "</style>\n",
       "<table border=\"1\" class=\"dataframe\">\n",
       "  <thead>\n",
       "    <tr style=\"text-align: right;\">\n",
       "      <th></th>\n",
       "      <th>gender</th>\n",
       "      <th>ssc_p</th>\n",
       "      <th>hsc_p</th>\n",
       "      <th>hsc_s</th>\n",
       "      <th>degree_p</th>\n",
       "      <th>degree_t</th>\n",
       "      <th>workex</th>\n",
       "      <th>etest_p</th>\n",
       "      <th>specialisation</th>\n",
       "      <th>mba_p</th>\n",
       "      <th>status</th>\n",
       "      <th>salary</th>\n",
       "    </tr>\n",
       "  </thead>\n",
       "  <tbody>\n",
       "    <tr>\n",
       "      <th>0</th>\n",
       "      <td>0</td>\n",
       "      <td>67.00</td>\n",
       "      <td>91.00</td>\n",
       "      <td>Commerce</td>\n",
       "      <td>58.00</td>\n",
       "      <td>Sci&amp;Tech</td>\n",
       "      <td>0</td>\n",
       "      <td>55.0</td>\n",
       "      <td>0</td>\n",
       "      <td>58.80</td>\n",
       "      <td>1</td>\n",
       "      <td>270000.0</td>\n",
       "    </tr>\n",
       "    <tr>\n",
       "      <th>1</th>\n",
       "      <td>0</td>\n",
       "      <td>79.33</td>\n",
       "      <td>78.33</td>\n",
       "      <td>Science</td>\n",
       "      <td>77.48</td>\n",
       "      <td>Sci&amp;Tech</td>\n",
       "      <td>1</td>\n",
       "      <td>86.5</td>\n",
       "      <td>1</td>\n",
       "      <td>66.28</td>\n",
       "      <td>1</td>\n",
       "      <td>200000.0</td>\n",
       "    </tr>\n",
       "    <tr>\n",
       "      <th>2</th>\n",
       "      <td>0</td>\n",
       "      <td>65.00</td>\n",
       "      <td>68.00</td>\n",
       "      <td>Arts</td>\n",
       "      <td>64.00</td>\n",
       "      <td>Comm&amp;Mgmt</td>\n",
       "      <td>0</td>\n",
       "      <td>75.0</td>\n",
       "      <td>1</td>\n",
       "      <td>57.80</td>\n",
       "      <td>1</td>\n",
       "      <td>250000.0</td>\n",
       "    </tr>\n",
       "    <tr>\n",
       "      <th>3</th>\n",
       "      <td>0</td>\n",
       "      <td>56.00</td>\n",
       "      <td>52.00</td>\n",
       "      <td>Science</td>\n",
       "      <td>52.00</td>\n",
       "      <td>Sci&amp;Tech</td>\n",
       "      <td>0</td>\n",
       "      <td>66.0</td>\n",
       "      <td>0</td>\n",
       "      <td>59.43</td>\n",
       "      <td>0</td>\n",
       "      <td>0.0</td>\n",
       "    </tr>\n",
       "    <tr>\n",
       "      <th>4</th>\n",
       "      <td>0</td>\n",
       "      <td>85.80</td>\n",
       "      <td>73.60</td>\n",
       "      <td>Commerce</td>\n",
       "      <td>73.30</td>\n",
       "      <td>Comm&amp;Mgmt</td>\n",
       "      <td>0</td>\n",
       "      <td>96.8</td>\n",
       "      <td>1</td>\n",
       "      <td>55.50</td>\n",
       "      <td>1</td>\n",
       "      <td>425000.0</td>\n",
       "    </tr>\n",
       "  </tbody>\n",
       "</table>\n",
       "</div>"
      ],
      "text/plain": [
       "   gender  ssc_p  hsc_p     hsc_s  degree_p   degree_t  workex  etest_p  \\\n",
       "0       0  67.00  91.00  Commerce     58.00   Sci&Tech       0     55.0   \n",
       "1       0  79.33  78.33   Science     77.48   Sci&Tech       1     86.5   \n",
       "2       0  65.00  68.00      Arts     64.00  Comm&Mgmt       0     75.0   \n",
       "3       0  56.00  52.00   Science     52.00   Sci&Tech       0     66.0   \n",
       "4       0  85.80  73.60  Commerce     73.30  Comm&Mgmt       0     96.8   \n",
       "\n",
       "   specialisation  mba_p  status    salary  \n",
       "0               0  58.80       1  270000.0  \n",
       "1               1  66.28       1  200000.0  \n",
       "2               1  57.80       1  250000.0  \n",
       "3               0  59.43       0       0.0  \n",
       "4               1  55.50       1  425000.0  "
      ]
     },
     "execution_count": 47,
     "metadata": {},
     "output_type": "execute_result"
    }
   ],
   "source": [
    "dup_data.head()"
   ]
  },
  {
   "cell_type": "markdown",
   "id": "41c8f088",
   "metadata": {},
   "source": [
    "- Lets append these columns to our data and remove the original columns"
   ]
  },
  {
   "cell_type": "code",
   "execution_count": 48,
   "id": "b5908725",
   "metadata": {},
   "outputs": [
    {
     "data": {
      "text/html": [
       "<div>\n",
       "<style scoped>\n",
       "    .dataframe tbody tr th:only-of-type {\n",
       "        vertical-align: middle;\n",
       "    }\n",
       "\n",
       "    .dataframe tbody tr th {\n",
       "        vertical-align: top;\n",
       "    }\n",
       "\n",
       "    .dataframe thead th {\n",
       "        text-align: right;\n",
       "    }\n",
       "</style>\n",
       "<table border=\"1\" class=\"dataframe\">\n",
       "  <thead>\n",
       "    <tr style=\"text-align: right;\">\n",
       "      <th></th>\n",
       "      <th>d__Arts</th>\n",
       "      <th>d__Commerce</th>\n",
       "      <th>d__Science</th>\n",
       "      <th>d__Comm&amp;Mgmt</th>\n",
       "      <th>d__Others</th>\n",
       "      <th>d__Sci&amp;Tech</th>\n",
       "      <th>gender</th>\n",
       "      <th>ssc_p</th>\n",
       "      <th>hsc_p</th>\n",
       "      <th>hsc_s</th>\n",
       "      <th>degree_p</th>\n",
       "      <th>degree_t</th>\n",
       "      <th>workex</th>\n",
       "      <th>etest_p</th>\n",
       "      <th>specialisation</th>\n",
       "      <th>mba_p</th>\n",
       "      <th>status</th>\n",
       "      <th>salary</th>\n",
       "    </tr>\n",
       "  </thead>\n",
       "  <tbody>\n",
       "    <tr>\n",
       "      <th>0</th>\n",
       "      <td>0</td>\n",
       "      <td>1</td>\n",
       "      <td>0</td>\n",
       "      <td>0</td>\n",
       "      <td>0</td>\n",
       "      <td>1</td>\n",
       "      <td>0</td>\n",
       "      <td>67.00</td>\n",
       "      <td>91.00</td>\n",
       "      <td>Commerce</td>\n",
       "      <td>58.00</td>\n",
       "      <td>Sci&amp;Tech</td>\n",
       "      <td>0</td>\n",
       "      <td>55.0</td>\n",
       "      <td>0</td>\n",
       "      <td>58.80</td>\n",
       "      <td>1</td>\n",
       "      <td>270000.0</td>\n",
       "    </tr>\n",
       "    <tr>\n",
       "      <th>1</th>\n",
       "      <td>0</td>\n",
       "      <td>0</td>\n",
       "      <td>1</td>\n",
       "      <td>0</td>\n",
       "      <td>0</td>\n",
       "      <td>1</td>\n",
       "      <td>0</td>\n",
       "      <td>79.33</td>\n",
       "      <td>78.33</td>\n",
       "      <td>Science</td>\n",
       "      <td>77.48</td>\n",
       "      <td>Sci&amp;Tech</td>\n",
       "      <td>1</td>\n",
       "      <td>86.5</td>\n",
       "      <td>1</td>\n",
       "      <td>66.28</td>\n",
       "      <td>1</td>\n",
       "      <td>200000.0</td>\n",
       "    </tr>\n",
       "    <tr>\n",
       "      <th>2</th>\n",
       "      <td>1</td>\n",
       "      <td>0</td>\n",
       "      <td>0</td>\n",
       "      <td>1</td>\n",
       "      <td>0</td>\n",
       "      <td>0</td>\n",
       "      <td>0</td>\n",
       "      <td>65.00</td>\n",
       "      <td>68.00</td>\n",
       "      <td>Arts</td>\n",
       "      <td>64.00</td>\n",
       "      <td>Comm&amp;Mgmt</td>\n",
       "      <td>0</td>\n",
       "      <td>75.0</td>\n",
       "      <td>1</td>\n",
       "      <td>57.80</td>\n",
       "      <td>1</td>\n",
       "      <td>250000.0</td>\n",
       "    </tr>\n",
       "    <tr>\n",
       "      <th>3</th>\n",
       "      <td>0</td>\n",
       "      <td>0</td>\n",
       "      <td>1</td>\n",
       "      <td>0</td>\n",
       "      <td>0</td>\n",
       "      <td>1</td>\n",
       "      <td>0</td>\n",
       "      <td>56.00</td>\n",
       "      <td>52.00</td>\n",
       "      <td>Science</td>\n",
       "      <td>52.00</td>\n",
       "      <td>Sci&amp;Tech</td>\n",
       "      <td>0</td>\n",
       "      <td>66.0</td>\n",
       "      <td>0</td>\n",
       "      <td>59.43</td>\n",
       "      <td>0</td>\n",
       "      <td>0.0</td>\n",
       "    </tr>\n",
       "    <tr>\n",
       "      <th>4</th>\n",
       "      <td>0</td>\n",
       "      <td>1</td>\n",
       "      <td>0</td>\n",
       "      <td>1</td>\n",
       "      <td>0</td>\n",
       "      <td>0</td>\n",
       "      <td>0</td>\n",
       "      <td>85.80</td>\n",
       "      <td>73.60</td>\n",
       "      <td>Commerce</td>\n",
       "      <td>73.30</td>\n",
       "      <td>Comm&amp;Mgmt</td>\n",
       "      <td>0</td>\n",
       "      <td>96.8</td>\n",
       "      <td>1</td>\n",
       "      <td>55.50</td>\n",
       "      <td>1</td>\n",
       "      <td>425000.0</td>\n",
       "    </tr>\n",
       "  </tbody>\n",
       "</table>\n",
       "</div>"
      ],
      "text/plain": [
       "   d__Arts  d__Commerce  d__Science  d__Comm&Mgmt  d__Others  d__Sci&Tech  \\\n",
       "0        0            1           0             0          0            1   \n",
       "1        0            0           1             0          0            1   \n",
       "2        1            0           0             1          0            0   \n",
       "3        0            0           1             0          0            1   \n",
       "4        0            1           0             1          0            0   \n",
       "\n",
       "   gender  ssc_p  hsc_p     hsc_s  degree_p   degree_t  workex  etest_p  \\\n",
       "0       0  67.00  91.00  Commerce     58.00   Sci&Tech       0     55.0   \n",
       "1       0  79.33  78.33   Science     77.48   Sci&Tech       1     86.5   \n",
       "2       0  65.00  68.00      Arts     64.00  Comm&Mgmt       0     75.0   \n",
       "3       0  56.00  52.00   Science     52.00   Sci&Tech       0     66.0   \n",
       "4       0  85.80  73.60  Commerce     73.30  Comm&Mgmt       0     96.8   \n",
       "\n",
       "   specialisation  mba_p  status    salary  \n",
       "0               0  58.80       1  270000.0  \n",
       "1               1  66.28       1  200000.0  \n",
       "2               1  57.80       1  250000.0  \n",
       "3               0  59.43       0       0.0  \n",
       "4               1  55.50       1  425000.0  "
      ]
     },
     "execution_count": 48,
     "metadata": {},
     "output_type": "execute_result"
    }
   ],
   "source": [
    "dup_data = pd.concat([d_hsc_s, d_degree_t, dup_data], axis = 1)\n",
    "dup_data.head()"
   ]
  },
  {
   "cell_type": "markdown",
   "id": "b1c12957",
   "metadata": {},
   "source": [
    "- Droping the origingal columns"
   ]
  },
  {
   "cell_type": "code",
   "execution_count": 49,
   "id": "9ad72706",
   "metadata": {},
   "outputs": [
    {
     "data": {
      "text/html": [
       "<div>\n",
       "<style scoped>\n",
       "    .dataframe tbody tr th:only-of-type {\n",
       "        vertical-align: middle;\n",
       "    }\n",
       "\n",
       "    .dataframe tbody tr th {\n",
       "        vertical-align: top;\n",
       "    }\n",
       "\n",
       "    .dataframe thead th {\n",
       "        text-align: right;\n",
       "    }\n",
       "</style>\n",
       "<table border=\"1\" class=\"dataframe\">\n",
       "  <thead>\n",
       "    <tr style=\"text-align: right;\">\n",
       "      <th></th>\n",
       "      <th>d__Arts</th>\n",
       "      <th>d__Commerce</th>\n",
       "      <th>d__Science</th>\n",
       "      <th>d__Comm&amp;Mgmt</th>\n",
       "      <th>d__Others</th>\n",
       "      <th>d__Sci&amp;Tech</th>\n",
       "      <th>gender</th>\n",
       "      <th>ssc_p</th>\n",
       "      <th>hsc_p</th>\n",
       "      <th>degree_p</th>\n",
       "      <th>workex</th>\n",
       "      <th>etest_p</th>\n",
       "      <th>specialisation</th>\n",
       "      <th>mba_p</th>\n",
       "      <th>status</th>\n",
       "      <th>salary</th>\n",
       "    </tr>\n",
       "  </thead>\n",
       "  <tbody>\n",
       "    <tr>\n",
       "      <th>0</th>\n",
       "      <td>0</td>\n",
       "      <td>1</td>\n",
       "      <td>0</td>\n",
       "      <td>0</td>\n",
       "      <td>0</td>\n",
       "      <td>1</td>\n",
       "      <td>0</td>\n",
       "      <td>67.00</td>\n",
       "      <td>91.00</td>\n",
       "      <td>58.00</td>\n",
       "      <td>0</td>\n",
       "      <td>55.0</td>\n",
       "      <td>0</td>\n",
       "      <td>58.80</td>\n",
       "      <td>1</td>\n",
       "      <td>270000.0</td>\n",
       "    </tr>\n",
       "    <tr>\n",
       "      <th>1</th>\n",
       "      <td>0</td>\n",
       "      <td>0</td>\n",
       "      <td>1</td>\n",
       "      <td>0</td>\n",
       "      <td>0</td>\n",
       "      <td>1</td>\n",
       "      <td>0</td>\n",
       "      <td>79.33</td>\n",
       "      <td>78.33</td>\n",
       "      <td>77.48</td>\n",
       "      <td>1</td>\n",
       "      <td>86.5</td>\n",
       "      <td>1</td>\n",
       "      <td>66.28</td>\n",
       "      <td>1</td>\n",
       "      <td>200000.0</td>\n",
       "    </tr>\n",
       "    <tr>\n",
       "      <th>2</th>\n",
       "      <td>1</td>\n",
       "      <td>0</td>\n",
       "      <td>0</td>\n",
       "      <td>1</td>\n",
       "      <td>0</td>\n",
       "      <td>0</td>\n",
       "      <td>0</td>\n",
       "      <td>65.00</td>\n",
       "      <td>68.00</td>\n",
       "      <td>64.00</td>\n",
       "      <td>0</td>\n",
       "      <td>75.0</td>\n",
       "      <td>1</td>\n",
       "      <td>57.80</td>\n",
       "      <td>1</td>\n",
       "      <td>250000.0</td>\n",
       "    </tr>\n",
       "    <tr>\n",
       "      <th>3</th>\n",
       "      <td>0</td>\n",
       "      <td>0</td>\n",
       "      <td>1</td>\n",
       "      <td>0</td>\n",
       "      <td>0</td>\n",
       "      <td>1</td>\n",
       "      <td>0</td>\n",
       "      <td>56.00</td>\n",
       "      <td>52.00</td>\n",
       "      <td>52.00</td>\n",
       "      <td>0</td>\n",
       "      <td>66.0</td>\n",
       "      <td>0</td>\n",
       "      <td>59.43</td>\n",
       "      <td>0</td>\n",
       "      <td>0.0</td>\n",
       "    </tr>\n",
       "    <tr>\n",
       "      <th>4</th>\n",
       "      <td>0</td>\n",
       "      <td>1</td>\n",
       "      <td>0</td>\n",
       "      <td>1</td>\n",
       "      <td>0</td>\n",
       "      <td>0</td>\n",
       "      <td>0</td>\n",
       "      <td>85.80</td>\n",
       "      <td>73.60</td>\n",
       "      <td>73.30</td>\n",
       "      <td>0</td>\n",
       "      <td>96.8</td>\n",
       "      <td>1</td>\n",
       "      <td>55.50</td>\n",
       "      <td>1</td>\n",
       "      <td>425000.0</td>\n",
       "    </tr>\n",
       "  </tbody>\n",
       "</table>\n",
       "</div>"
      ],
      "text/plain": [
       "   d__Arts  d__Commerce  d__Science  d__Comm&Mgmt  d__Others  d__Sci&Tech  \\\n",
       "0        0            1           0             0          0            1   \n",
       "1        0            0           1             0          0            1   \n",
       "2        1            0           0             1          0            0   \n",
       "3        0            0           1             0          0            1   \n",
       "4        0            1           0             1          0            0   \n",
       "\n",
       "   gender  ssc_p  hsc_p  degree_p  workex  etest_p  specialisation  mba_p  \\\n",
       "0       0  67.00  91.00     58.00       0     55.0               0  58.80   \n",
       "1       0  79.33  78.33     77.48       1     86.5               1  66.28   \n",
       "2       0  65.00  68.00     64.00       0     75.0               1  57.80   \n",
       "3       0  56.00  52.00     52.00       0     66.0               0  59.43   \n",
       "4       0  85.80  73.60     73.30       0     96.8               1  55.50   \n",
       "\n",
       "   status    salary  \n",
       "0       1  270000.0  \n",
       "1       1  200000.0  \n",
       "2       1  250000.0  \n",
       "3       0       0.0  \n",
       "4       1  425000.0  "
      ]
     },
     "execution_count": 49,
     "metadata": {},
     "output_type": "execute_result"
    }
   ],
   "source": [
    "dup_data.drop(['hsc_s','degree_t'], axis = 1, inplace = True)\n",
    "dup_data.head()"
   ]
  },
  {
   "cell_type": "markdown",
   "id": "8bb82421",
   "metadata": {},
   "source": [
    "- Lets predict the students will get placed or not which is a Binary classification problem"
   ]
  },
  {
   "cell_type": "markdown",
   "id": "143a469b",
   "metadata": {},
   "source": [
    "## Binary Classification Problem"
   ]
  },
  {
   "cell_type": "code",
   "execution_count": 50,
   "id": "c7272815",
   "metadata": {},
   "outputs": [
    {
     "data": {
      "text/html": [
       "<div>\n",
       "<style scoped>\n",
       "    .dataframe tbody tr th:only-of-type {\n",
       "        vertical-align: middle;\n",
       "    }\n",
       "\n",
       "    .dataframe tbody tr th {\n",
       "        vertical-align: top;\n",
       "    }\n",
       "\n",
       "    .dataframe thead th {\n",
       "        text-align: right;\n",
       "    }\n",
       "</style>\n",
       "<table border=\"1\" class=\"dataframe\">\n",
       "  <thead>\n",
       "    <tr style=\"text-align: right;\">\n",
       "      <th></th>\n",
       "      <th>d__Arts</th>\n",
       "      <th>d__Commerce</th>\n",
       "      <th>d__Science</th>\n",
       "      <th>d__Comm&amp;Mgmt</th>\n",
       "      <th>d__Others</th>\n",
       "      <th>d__Sci&amp;Tech</th>\n",
       "      <th>gender</th>\n",
       "      <th>ssc_p</th>\n",
       "      <th>hsc_p</th>\n",
       "      <th>degree_p</th>\n",
       "      <th>workex</th>\n",
       "      <th>etest_p</th>\n",
       "      <th>specialisation</th>\n",
       "      <th>mba_p</th>\n",
       "      <th>status</th>\n",
       "    </tr>\n",
       "  </thead>\n",
       "  <tbody>\n",
       "    <tr>\n",
       "      <th>0</th>\n",
       "      <td>0</td>\n",
       "      <td>1</td>\n",
       "      <td>0</td>\n",
       "      <td>0</td>\n",
       "      <td>0</td>\n",
       "      <td>1</td>\n",
       "      <td>0</td>\n",
       "      <td>67.00</td>\n",
       "      <td>91.00</td>\n",
       "      <td>58.00</td>\n",
       "      <td>0</td>\n",
       "      <td>55.0</td>\n",
       "      <td>0</td>\n",
       "      <td>58.80</td>\n",
       "      <td>1</td>\n",
       "    </tr>\n",
       "    <tr>\n",
       "      <th>1</th>\n",
       "      <td>0</td>\n",
       "      <td>0</td>\n",
       "      <td>1</td>\n",
       "      <td>0</td>\n",
       "      <td>0</td>\n",
       "      <td>1</td>\n",
       "      <td>0</td>\n",
       "      <td>79.33</td>\n",
       "      <td>78.33</td>\n",
       "      <td>77.48</td>\n",
       "      <td>1</td>\n",
       "      <td>86.5</td>\n",
       "      <td>1</td>\n",
       "      <td>66.28</td>\n",
       "      <td>1</td>\n",
       "    </tr>\n",
       "    <tr>\n",
       "      <th>2</th>\n",
       "      <td>1</td>\n",
       "      <td>0</td>\n",
       "      <td>0</td>\n",
       "      <td>1</td>\n",
       "      <td>0</td>\n",
       "      <td>0</td>\n",
       "      <td>0</td>\n",
       "      <td>65.00</td>\n",
       "      <td>68.00</td>\n",
       "      <td>64.00</td>\n",
       "      <td>0</td>\n",
       "      <td>75.0</td>\n",
       "      <td>1</td>\n",
       "      <td>57.80</td>\n",
       "      <td>1</td>\n",
       "    </tr>\n",
       "    <tr>\n",
       "      <th>3</th>\n",
       "      <td>0</td>\n",
       "      <td>0</td>\n",
       "      <td>1</td>\n",
       "      <td>0</td>\n",
       "      <td>0</td>\n",
       "      <td>1</td>\n",
       "      <td>0</td>\n",
       "      <td>56.00</td>\n",
       "      <td>52.00</td>\n",
       "      <td>52.00</td>\n",
       "      <td>0</td>\n",
       "      <td>66.0</td>\n",
       "      <td>0</td>\n",
       "      <td>59.43</td>\n",
       "      <td>0</td>\n",
       "    </tr>\n",
       "    <tr>\n",
       "      <th>4</th>\n",
       "      <td>0</td>\n",
       "      <td>1</td>\n",
       "      <td>0</td>\n",
       "      <td>1</td>\n",
       "      <td>0</td>\n",
       "      <td>0</td>\n",
       "      <td>0</td>\n",
       "      <td>85.80</td>\n",
       "      <td>73.60</td>\n",
       "      <td>73.30</td>\n",
       "      <td>0</td>\n",
       "      <td>96.8</td>\n",
       "      <td>1</td>\n",
       "      <td>55.50</td>\n",
       "      <td>1</td>\n",
       "    </tr>\n",
       "    <tr>\n",
       "      <th>...</th>\n",
       "      <td>...</td>\n",
       "      <td>...</td>\n",
       "      <td>...</td>\n",
       "      <td>...</td>\n",
       "      <td>...</td>\n",
       "      <td>...</td>\n",
       "      <td>...</td>\n",
       "      <td>...</td>\n",
       "      <td>...</td>\n",
       "      <td>...</td>\n",
       "      <td>...</td>\n",
       "      <td>...</td>\n",
       "      <td>...</td>\n",
       "      <td>...</td>\n",
       "      <td>...</td>\n",
       "    </tr>\n",
       "    <tr>\n",
       "      <th>210</th>\n",
       "      <td>0</td>\n",
       "      <td>1</td>\n",
       "      <td>0</td>\n",
       "      <td>1</td>\n",
       "      <td>0</td>\n",
       "      <td>0</td>\n",
       "      <td>0</td>\n",
       "      <td>80.60</td>\n",
       "      <td>82.00</td>\n",
       "      <td>77.60</td>\n",
       "      <td>0</td>\n",
       "      <td>91.0</td>\n",
       "      <td>1</td>\n",
       "      <td>74.49</td>\n",
       "      <td>1</td>\n",
       "    </tr>\n",
       "    <tr>\n",
       "      <th>211</th>\n",
       "      <td>0</td>\n",
       "      <td>0</td>\n",
       "      <td>1</td>\n",
       "      <td>0</td>\n",
       "      <td>0</td>\n",
       "      <td>1</td>\n",
       "      <td>0</td>\n",
       "      <td>58.00</td>\n",
       "      <td>60.00</td>\n",
       "      <td>72.00</td>\n",
       "      <td>0</td>\n",
       "      <td>74.0</td>\n",
       "      <td>1</td>\n",
       "      <td>53.62</td>\n",
       "      <td>1</td>\n",
       "    </tr>\n",
       "    <tr>\n",
       "      <th>212</th>\n",
       "      <td>0</td>\n",
       "      <td>1</td>\n",
       "      <td>0</td>\n",
       "      <td>1</td>\n",
       "      <td>0</td>\n",
       "      <td>0</td>\n",
       "      <td>0</td>\n",
       "      <td>67.00</td>\n",
       "      <td>67.00</td>\n",
       "      <td>73.00</td>\n",
       "      <td>1</td>\n",
       "      <td>59.0</td>\n",
       "      <td>1</td>\n",
       "      <td>69.72</td>\n",
       "      <td>1</td>\n",
       "    </tr>\n",
       "    <tr>\n",
       "      <th>213</th>\n",
       "      <td>0</td>\n",
       "      <td>1</td>\n",
       "      <td>0</td>\n",
       "      <td>1</td>\n",
       "      <td>0</td>\n",
       "      <td>0</td>\n",
       "      <td>1</td>\n",
       "      <td>74.00</td>\n",
       "      <td>66.00</td>\n",
       "      <td>58.00</td>\n",
       "      <td>0</td>\n",
       "      <td>70.0</td>\n",
       "      <td>0</td>\n",
       "      <td>60.23</td>\n",
       "      <td>1</td>\n",
       "    </tr>\n",
       "    <tr>\n",
       "      <th>214</th>\n",
       "      <td>0</td>\n",
       "      <td>0</td>\n",
       "      <td>1</td>\n",
       "      <td>1</td>\n",
       "      <td>0</td>\n",
       "      <td>0</td>\n",
       "      <td>0</td>\n",
       "      <td>62.00</td>\n",
       "      <td>58.00</td>\n",
       "      <td>53.00</td>\n",
       "      <td>0</td>\n",
       "      <td>89.0</td>\n",
       "      <td>0</td>\n",
       "      <td>60.22</td>\n",
       "      <td>0</td>\n",
       "    </tr>\n",
       "  </tbody>\n",
       "</table>\n",
       "<p>215 rows × 15 columns</p>\n",
       "</div>"
      ],
      "text/plain": [
       "     d__Arts  d__Commerce  d__Science  d__Comm&Mgmt  d__Others  d__Sci&Tech  \\\n",
       "0          0            1           0             0          0            1   \n",
       "1          0            0           1             0          0            1   \n",
       "2          1            0           0             1          0            0   \n",
       "3          0            0           1             0          0            1   \n",
       "4          0            1           0             1          0            0   \n",
       "..       ...          ...         ...           ...        ...          ...   \n",
       "210        0            1           0             1          0            0   \n",
       "211        0            0           1             0          0            1   \n",
       "212        0            1           0             1          0            0   \n",
       "213        0            1           0             1          0            0   \n",
       "214        0            0           1             1          0            0   \n",
       "\n",
       "     gender  ssc_p  hsc_p  degree_p  workex  etest_p  specialisation  mba_p  \\\n",
       "0         0  67.00  91.00     58.00       0     55.0               0  58.80   \n",
       "1         0  79.33  78.33     77.48       1     86.5               1  66.28   \n",
       "2         0  65.00  68.00     64.00       0     75.0               1  57.80   \n",
       "3         0  56.00  52.00     52.00       0     66.0               0  59.43   \n",
       "4         0  85.80  73.60     73.30       0     96.8               1  55.50   \n",
       "..      ...    ...    ...       ...     ...      ...             ...    ...   \n",
       "210       0  80.60  82.00     77.60       0     91.0               1  74.49   \n",
       "211       0  58.00  60.00     72.00       0     74.0               1  53.62   \n",
       "212       0  67.00  67.00     73.00       1     59.0               1  69.72   \n",
       "213       1  74.00  66.00     58.00       0     70.0               0  60.23   \n",
       "214       0  62.00  58.00     53.00       0     89.0               0  60.22   \n",
       "\n",
       "     status  \n",
       "0         1  \n",
       "1         1  \n",
       "2         1  \n",
       "3         0  \n",
       "4         1  \n",
       "..      ...  \n",
       "210       1  \n",
       "211       1  \n",
       "212       1  \n",
       "213       1  \n",
       "214       0  \n",
       "\n",
       "[215 rows x 15 columns]"
      ]
     },
     "execution_count": 50,
     "metadata": {},
     "output_type": "execute_result"
    }
   ],
   "source": [
    "dup_1 = dup_data\n",
    "dup_1.drop(columns=['salary'], inplace = True)\n",
    "dup_1"
   ]
  },
  {
   "cell_type": "markdown",
   "id": "f90275d0",
   "metadata": {},
   "source": [
    "### Logistic regression:"
   ]
  },
  {
   "cell_type": "code",
   "execution_count": 51,
   "id": "be721b42",
   "metadata": {},
   "outputs": [],
   "source": [
    "x = dup_1.drop(['status'],axis = 1)\n",
    "y = dup_1.status"
   ]
  },
  {
   "cell_type": "code",
   "execution_count": 52,
   "id": "c73e6330",
   "metadata": {},
   "outputs": [],
   "source": [
    "new_header = x.iloc[0]\n",
    "x = x[0:]\n",
    "x.columns = new_header"
   ]
  },
  {
   "cell_type": "code",
   "execution_count": 53,
   "id": "2cb3c184",
   "metadata": {},
   "outputs": [
    {
     "name": "stdout",
     "output_type": "stream",
     "text": [
      "0    0.0   1.0   0.0   0.0   0.0   1.0   0.0    67.0   91.0   58.0  0.0   \\\n",
      "0       0     1     0     0     0     1     0  67.00  91.00  58.00     0   \n",
      "1       0     0     1     0     0     1     0  79.33  78.33  77.48     1   \n",
      "2       1     0     0     1     0     0     0  65.00  68.00  64.00     0   \n",
      "3       0     0     1     0     0     1     0  56.00  52.00  52.00     0   \n",
      "4       0     1     0     1     0     0     0  85.80  73.60  73.30     0   \n",
      "..    ...   ...   ...   ...   ...   ...   ...    ...    ...    ...   ...   \n",
      "210     0     1     0     1     0     0     0  80.60  82.00  77.60     0   \n",
      "211     0     0     1     0     0     1     0  58.00  60.00  72.00     0   \n",
      "212     0     1     0     1     0     0     0  67.00  67.00  73.00     1   \n",
      "213     0     1     0     1     0     0     1  74.00  66.00  58.00     0   \n",
      "214     0     0     1     1     0     0     0  62.00  58.00  53.00     0   \n",
      "\n",
      "0    55.0  0.0    58.8  \n",
      "0    55.0     0  58.80  \n",
      "1    86.5     1  66.28  \n",
      "2    75.0     1  57.80  \n",
      "3    66.0     0  59.43  \n",
      "4    96.8     1  55.50  \n",
      "..    ...   ...    ...  \n",
      "210  91.0     1  74.49  \n",
      "211  74.0     1  53.62  \n",
      "212  59.0     1  69.72  \n",
      "213  70.0     0  60.23  \n",
      "214  89.0     0  60.22  \n",
      "\n",
      "[215 rows x 14 columns]\n",
      "0      1\n",
      "1      1\n",
      "2      1\n",
      "3      0\n",
      "4      1\n",
      "      ..\n",
      "210    1\n",
      "211    1\n",
      "212    1\n",
      "213    1\n",
      "214    0\n",
      "Name: status, Length: 215, dtype: int64\n"
     ]
    }
   ],
   "source": [
    "print(x)\n",
    "print(y)"
   ]
  },
  {
   "cell_type": "code",
   "execution_count": 54,
   "id": "9ea32f0a",
   "metadata": {},
   "outputs": [
    {
     "name": "stdout",
     "output_type": "stream",
     "text": [
      "xtrain: 172\n",
      "xtest: 43\n",
      "ytrain: 172\n",
      "ytest: 43\n"
     ]
    }
   ],
   "source": [
    "# for suppose the splitting factor to be 0.8 which is 80%\n",
    "sf = 0.8\n",
    "n_train = math.floor(sf * x.shape[0])\n",
    "n_test = math.ceil((1-sf) * x.shape[0])\n",
    "\n",
    "x_train = x[:n_train]\n",
    "y_train = y[:n_train]\n",
    "x_test = x[n_train:]\n",
    "y_test = y[n_train:]\n",
    "\n",
    "print(\"xtrain:\",x_train.shape[0])\n",
    "print(\"xtest:\",x_test.shape[0])\n",
    "print(\"ytrain:\",y_train.shape[0])\n",
    "print(\"ytest:\",y_test.shape[0])"
   ]
  },
  {
   "cell_type": "code",
   "execution_count": 55,
   "id": "dbb8d39e",
   "metadata": {},
   "outputs": [],
   "source": [
    "def sigmoid(x):\n",
    "    return 1/(1 + np.exp(-x))\n",
    "\n",
    "\n",
    "class LogisticRegression():\n",
    "    \n",
    "    def __init__(self, lr, n_iters = 1000):\n",
    "        self.lr = lr\n",
    "        self.n_iters = n_iters\n",
    "        self.weights = None\n",
    "        self.bias = None\n",
    "    \n",
    "    def fit(self, X, y):\n",
    "        n_samples, n_features = X.shape\n",
    "        self.weights = np.zeros(n_features)\n",
    "        self.bias = 0\n",
    "        \n",
    "        for _ in range(self.n_iters):\n",
    "            linear_pred = np.dot(X, self.weights) + self.bias\n",
    "            predictions = sigmoid(linear_pred)\n",
    "            \n",
    "            dw = (1/n_samples) * np.dot(X.T, (predictions - y))\n",
    "            db = (1/n_samples) * np.sum(predictions - y)\n",
    "            \n",
    "            self.weights = self.weights - self.lr * dw\n",
    "            self.bias = self.bias - self.lr * db\n",
    "            \n",
    "    def predict(self, X):\n",
    "        linear_pred = np.dot(X, self.weights) + self.bias\n",
    "        y_pred = sigmoid(linear_pred)\n",
    "        class_pred = [0 if y<0.5 else 1 for y in y_pred]\n",
    "        return class_pred"
   ]
  },
  {
   "cell_type": "code",
   "execution_count": 56,
   "id": "5aab4c6f",
   "metadata": {},
   "outputs": [],
   "source": [
    "clf_lr = LogisticRegression(lr = 0.001)\n",
    "clf_lr.fit(x_train,y_train)\n",
    "y_pred = clf_lr.predict(x_test)\n",
    "\n",
    "def accuracy(y_pred,y_test):\n",
    "    return np.sum(y_pred == y_test)/len(y_test)\n",
    "\n",
    "logistic_acc = accuracy(y_pred, y_test)"
   ]
  },
  {
   "cell_type": "code",
   "execution_count": 57,
   "id": "cd76f84f",
   "metadata": {},
   "outputs": [],
   "source": [
    "# sklearns logistic regression\n",
    "from sklearn.linear_model import LogisticRegression\n",
    "from sklearn import metrics\n",
    "logreg = LogisticRegression()\n",
    "logreg.fit(x_train, y_train)\n",
    "y_pred_sk = logreg.predict(x_test)\n",
    "logistic_acc_sk = logreg.score(x_test, y_test)"
   ]
  },
  {
   "cell_type": "code",
   "execution_count": 58,
   "id": "df44602a",
   "metadata": {},
   "outputs": [
    {
     "name": "stdout",
     "output_type": "stream",
     "text": [
      "Accuracy of logistic regression with sklearn: 0.88\n",
      "Accuracy of logistic regression without sklearn: 0.86\n"
     ]
    }
   ],
   "source": [
    "print('Accuracy of logistic regression with sklearn: {:.2f}'.format(logistic_acc_sk))\n",
    "print('Accuracy of logistic regression without sklearn: {:.2f}'.format(logistic_acc))"
   ]
  },
  {
   "cell_type": "code",
   "execution_count": 59,
   "id": "cc5a77c7",
   "metadata": {},
   "outputs": [
    {
     "name": "stdout",
     "output_type": "stream",
     "text": [
      "              precision    recall  f1-score   support\n",
      "\n",
      "           0       0.75      0.94      0.83        16\n",
      "           1       0.96      0.81      0.88        27\n",
      "\n",
      "    accuracy                           0.86        43\n",
      "   macro avg       0.85      0.88      0.86        43\n",
      "weighted avg       0.88      0.86      0.86        43\n",
      "\n"
     ]
    }
   ],
   "source": [
    "from sklearn.metrics import accuracy_score, classification_report\n",
    "print(classification_report(y_test, y_pred))"
   ]
  },
  {
   "cell_type": "code",
   "execution_count": 60,
   "id": "cc23e583",
   "metadata": {},
   "outputs": [
    {
     "name": "stdout",
     "output_type": "stream",
     "text": [
      "[[15  1]\n",
      " [ 5 22]]\n"
     ]
    }
   ],
   "source": [
    "from sklearn.metrics import confusion_matrix\n",
    "cf_matrix = confusion_matrix(y_test, y_pred)\n",
    "print(cf_matrix)"
   ]
  },
  {
   "cell_type": "code",
   "execution_count": 61,
   "id": "e235b223",
   "metadata": {},
   "outputs": [
    {
     "data": {
      "image/png": "[encoded data removed]",
      "text/plain": [
       "<Figure size 432x288 with 2 Axes>"
      ]
     },
     "metadata": {
      "needs_background": "light"
     },
     "output_type": "display_data"
    }
   ],
   "source": [
    "ax = sns.heatmap(cf_matrix, annot=True, cmap='Blues')\n",
    "\n",
    "ax.set_title('Seaborn Confusion Matrix with labels\\n\\n');\n",
    "ax.set_xlabel('\\nPredicted Values')\n",
    "ax.set_ylabel('Actual Values ');\n",
    "\n",
    "## Ticket labels - List must be in alphabetical order\n",
    "ax.xaxis.set_ticklabels(['False','True'])\n",
    "ax.yaxis.set_ticklabels(['False','True'])\n",
    "\n",
    "## Display the visualization of the Confusion Matrix.\n",
    "plt.show()"
   ]
  },
  {
   "cell_type": "markdown",
   "id": "d91199fe",
   "metadata": {},
   "source": [
    "### K - Nearest Neighbours"
   ]
  },
  {
   "cell_type": "code",
   "execution_count": 62,
   "id": "dfbc8ac1",
   "metadata": {},
   "outputs": [],
   "source": [
    "def euclidean_distance(x1, x2):\n",
    "    distance = np.sqrt(np.sum((x1-x2)**2))\n",
    "    return distance\n",
    "\n",
    "class KNN:\n",
    "    def __init__(self, k):\n",
    "        self.k = k\n",
    "\n",
    "    def fit(self, X, y):\n",
    "        self.X_train = X\n",
    "        self.y_train = y\n",
    "\n",
    "    def predict(self, X):\n",
    "        predictions = [self._predict(x) for x in X]\n",
    "        return predictions\n",
    "\n",
    "    def _predict(self, x):\n",
    "        # compute the distance\n",
    "        distances = [euclidean_distance(x, x_train) for x_train in self.X_train]\n",
    "    \n",
    "        # get the closest k\n",
    "        k_indices = np.argsort(distances)[:self.k]\n",
    "        k_nearest_labels = [self.y_train[i] for i in k_indices]\n",
    "\n",
    "        # majority voye\n",
    "        most_common = Counter(k_nearest_labels).most_common()\n",
    "        return most_common[0][0]"
   ]
  },
  {
   "cell_type": "code",
   "execution_count": 63,
   "id": "151fa963",
   "metadata": {},
   "outputs": [],
   "source": [
    "x = dup_1.drop(['status'],axis = 1)\n",
    "y = dup_1.status"
   ]
  },
  {
   "cell_type": "code",
   "execution_count": 64,
   "id": "5e3f04eb",
   "metadata": {},
   "outputs": [],
   "source": [
    "new_header = x.iloc[0]\n",
    "x = x[0:]\n",
    "x.columns = new_header"
   ]
  },
  {
   "cell_type": "code",
   "execution_count": 65,
   "id": "3b8819a3",
   "metadata": {},
   "outputs": [
    {
     "name": "stdout",
     "output_type": "stream",
     "text": [
      "0    0.0   1.0   0.0   0.0   0.0   1.0   0.0    67.0   91.0   58.0  0.0   \\\n",
      "0       0     1     0     0     0     1     0  67.00  91.00  58.00     0   \n",
      "1       0     0     1     0     0     1     0  79.33  78.33  77.48     1   \n",
      "2       1     0     0     1     0     0     0  65.00  68.00  64.00     0   \n",
      "3       0     0     1     0     0     1     0  56.00  52.00  52.00     0   \n",
      "4       0     1     0     1     0     0     0  85.80  73.60  73.30     0   \n",
      "..    ...   ...   ...   ...   ...   ...   ...    ...    ...    ...   ...   \n",
      "210     0     1     0     1     0     0     0  80.60  82.00  77.60     0   \n",
      "211     0     0     1     0     0     1     0  58.00  60.00  72.00     0   \n",
      "212     0     1     0     1     0     0     0  67.00  67.00  73.00     1   \n",
      "213     0     1     0     1     0     0     1  74.00  66.00  58.00     0   \n",
      "214     0     0     1     1     0     0     0  62.00  58.00  53.00     0   \n",
      "\n",
      "0    55.0  0.0    58.8  \n",
      "0    55.0     0  58.80  \n",
      "1    86.5     1  66.28  \n",
      "2    75.0     1  57.80  \n",
      "3    66.0     0  59.43  \n",
      "4    96.8     1  55.50  \n",
      "..    ...   ...    ...  \n",
      "210  91.0     1  74.49  \n",
      "211  74.0     1  53.62  \n",
      "212  59.0     1  69.72  \n",
      "213  70.0     0  60.23  \n",
      "214  89.0     0  60.22  \n",
      "\n",
      "[215 rows x 14 columns]\n",
      "0      1\n",
      "1      1\n",
      "2      1\n",
      "3      0\n",
      "4      1\n",
      "      ..\n",
      "210    1\n",
      "211    1\n",
      "212    1\n",
      "213    1\n",
      "214    0\n",
      "Name: status, Length: 215, dtype: int64\n"
     ]
    }
   ],
   "source": [
    "print(x)\n",
    "print(y)"
   ]
  },
  {
   "cell_type": "code",
   "execution_count": 66,
   "id": "b1dbef01",
   "metadata": {},
   "outputs": [
    {
     "name": "stdout",
     "output_type": "stream",
     "text": [
      "xtrain: 172\n",
      "xtest: 43\n",
      "ytrain: 172\n",
      "ytest: 43\n"
     ]
    }
   ],
   "source": [
    "# for suppose the splitting factor to be 0.8 which is 80%\n",
    "sf = 0.8\n",
    "n_train = math.floor(sf * x.shape[0])\n",
    "n_test = math.ceil((1-sf) * x.shape[0])\n",
    "\n",
    "x_train = x[:n_train]\n",
    "y_train = y[:n_train]\n",
    "x_test = x[n_train:]\n",
    "y_test = y[n_train:]\n",
    "\n",
    "print(\"xtrain:\",x_train.shape[0])\n",
    "print(\"xtest:\",x_test.shape[0])\n",
    "print(\"ytrain:\",y_train.shape[0])\n",
    "print(\"ytest:\",y_test.shape[0])"
   ]
  },
  {
   "cell_type": "code",
   "execution_count": 67,
   "id": "ff755c14",
   "metadata": {},
   "outputs": [],
   "source": [
    "a_train = x_train.to_numpy()\n",
    "b_train = y_train.to_numpy()\n",
    "a_test = x_test.to_numpy()\n",
    "b_test = y_test.to_numpy()"
   ]
  },
  {
   "cell_type": "code",
   "execution_count": 68,
   "id": "217940e6",
   "metadata": {},
   "outputs": [
    {
     "name": "stdout",
     "output_type": "stream",
     "text": [
      "0.7906976744186046\n"
     ]
    }
   ],
   "source": [
    "clf = KNN(k=3)\n",
    "clf.fit(a_train, b_train)\n",
    "predictions = clf.predict(a_test)\n",
    "\n",
    "knn_acc = np.sum(predictions == b_test) / len(b_test)\n",
    "print(knn_acc)"
   ]
  },
  {
   "cell_type": "code",
   "execution_count": 69,
   "id": "4bbfe8b6",
   "metadata": {},
   "outputs": [
    {
     "name": "stdout",
     "output_type": "stream",
     "text": [
      "Accuracy of KNN with sklearn: 0.7906976744186046\n",
      "Accuracy of KNN without sklearn: 0.7906976744186046\n"
     ]
    }
   ],
   "source": [
    "from sklearn.neighbors import KNeighborsClassifier\n",
    "from sklearn.metrics import accuracy_score\n",
    "knn = KNeighborsClassifier(n_neighbors=5, metric='euclidean')\n",
    "knn.fit(a_train, b_train)\n",
    "y_pred = knn.predict(a_test)\n",
    "knn_acc_sk = accuracy_score(y_pred, b_test)\n",
    "\n",
    "print(\"Accuracy of KNN with sklearn:\", knn_acc_sk)\n",
    "print(\"Accuracy of KNN without sklearn:\", knn_acc)"
   ]
  },
  {
   "cell_type": "code",
   "execution_count": 70,
   "id": "e14e45fa",
   "metadata": {
    "scrolled": false
   },
   "outputs": [
    {
     "name": "stdout",
     "output_type": "stream",
     "text": [
      "              precision    recall  f1-score   support\n",
      "\n",
      "           0       0.82      0.56      0.67        16\n",
      "           1       0.78      0.93      0.85        27\n",
      "\n",
      "    accuracy                           0.79        43\n",
      "   macro avg       0.80      0.74      0.76        43\n",
      "weighted avg       0.79      0.79      0.78        43\n",
      "\n"
     ]
    }
   ],
   "source": [
    "from sklearn.metrics import accuracy_score, classification_report\n",
    "print(classification_report(b_test, predictions))"
   ]
  },
  {
   "cell_type": "code",
   "execution_count": 71,
   "id": "eb258487",
   "metadata": {
    "scrolled": false
   },
   "outputs": [
    {
     "name": "stdout",
     "output_type": "stream",
     "text": [
      "[[ 9  7]\n",
      " [ 2 25]]\n"
     ]
    }
   ],
   "source": [
    "from sklearn.metrics import confusion_matrix\n",
    "cf_matrix = confusion_matrix(y_test, predictions)\n",
    "print(cf_matrix)"
   ]
  },
  {
   "cell_type": "code",
   "execution_count": 72,
   "id": "e3eabede",
   "metadata": {},
   "outputs": [
    {
     "data": {
      "image/png": "[encoded data removed]",
      "text/plain": [
       "<Figure size 432x288 with 2 Axes>"
      ]
     },
     "metadata": {
      "needs_background": "light"
     },
     "output_type": "display_data"
    }
   ],
   "source": [
    "ax = sns.heatmap(cf_matrix, annot=True, cmap='Blues')\n",
    "\n",
    "ax.set_title('Seaborn Confusion Matrix with labels\\n\\n');\n",
    "ax.set_xlabel('\\nPredicted Values')\n",
    "ax.set_ylabel('Actual Values ');\n",
    "\n",
    "## Ticket labels - List must be in alphabetical order\n",
    "ax.xaxis.set_ticklabels(['False','True'])\n",
    "ax.yaxis.set_ticklabels(['False','True'])\n",
    "\n",
    "## Display the visualization of the Confusion Matrix.\n",
    "plt.show()"
   ]
  },
  {
   "cell_type": "markdown",
   "id": "17f87099",
   "metadata": {},
   "source": [
    "### Decision Trees"
   ]
  },
  {
   "cell_type": "code",
   "execution_count": 84,
   "id": "9584ee2f",
   "metadata": {},
   "outputs": [],
   "source": [
    "class Node:\n",
    "    def __init__(self, feature=None, threshold=None, left=None, right=None,*,value=None):\n",
    "        self.feature = feature\n",
    "        self.threshold = threshold\n",
    "        self.left = left\n",
    "        self.right = right\n",
    "        self.value = value\n",
    "        \n",
    "    def is_leaf_node(self):\n",
    "        return self.value is not None\n",
    "\n",
    "\n",
    "class DecisionTree:\n",
    "    def __init__(self, min_samples_split=2, max_depth=10, n_features=None):\n",
    "        self.min_samples_split=min_samples_split\n",
    "        self.max_depth=max_depth\n",
    "        self.n_features=n_features\n",
    "        self.root=None\n",
    "\n",
    "    def fit(self, X, y):\n",
    "        self.n_features = X.shape[1] if not self.n_features else min(X.shape[1],self.n_features)\n",
    "        self.root = self._grow_tree(X, y)\n",
    "\n",
    "    def _grow_tree(self, X, y, depth=0):\n",
    "        n_samples, n_feats = X.shape\n",
    "        n_labels = len(np.unique(y))\n",
    "\n",
    "        # check the stopping criteria\n",
    "        if (depth>=self.max_depth or n_labels==1 or n_samples<self.min_samples_split):\n",
    "            leaf_value = self._most_common_label(y)\n",
    "            return Node(value=leaf_value)\n",
    "\n",
    "        feat_idxs = np.random.choice(n_feats, self.n_features, replace=False)\n",
    "\n",
    "        \n",
    "        best_feature, best_thresh = self._best_split(X, y, feat_idxs)\n",
    "\n",
    "        \n",
    "        left_idxs, right_idxs = self._split(X[:, best_feature], best_thresh)\n",
    "        left = self._grow_tree(X[left_idxs, :], y[left_idxs], depth+1)\n",
    "        right = self._grow_tree(X[right_idxs, :], y[right_idxs], depth+1)\n",
    "        return Node(best_feature, best_thresh, left, right)\n",
    "\n",
    "\n",
    "    def _best_split(self, X, y, feat_idxs):\n",
    "        best_gain = -1\n",
    "        split_idx, split_threshold = None, None\n",
    "\n",
    "        for feat_idx in feat_idxs:\n",
    "            X_column = X[:, feat_idx]\n",
    "            thresholds = np.unique(X_column)\n",
    "\n",
    "            for thr in thresholds:\n",
    "                \n",
    "                gain = self._information_gain(y, X_column, thr)\n",
    "\n",
    "                if gain > best_gain:\n",
    "                    best_gain = gain\n",
    "                    split_idx = feat_idx\n",
    "                    split_threshold = thr\n",
    "\n",
    "        return split_idx, split_threshold\n",
    "\n",
    "\n",
    "    def _information_gain(self, y, X_column, threshold):\n",
    "\n",
    "        parent_entropy = self._entropy(y)\n",
    "\n",
    "        left_idxs, right_idxs = self._split(X_column, threshold)\n",
    "\n",
    "        if len(left_idxs) == 0 or len(right_idxs) == 0:\n",
    "            return 0\n",
    "        \n",
    "        \n",
    "        n = len(y)\n",
    "        n_l, n_r = len(left_idxs), len(right_idxs)\n",
    "        e_l, e_r = self._entropy(y[left_idxs]), self._entropy(y[right_idxs])\n",
    "        child_entropy = (n_l/n) * e_l + (n_r/n) * e_r\n",
    "\n",
    " \n",
    "        information_gain = parent_entropy - child_entropy\n",
    "        return information_gain\n",
    "\n",
    "    def _split(self, X_column, split_thresh):\n",
    "        left_idxs = np.argwhere(X_column <= split_thresh).flatten()\n",
    "        right_idxs = np.argwhere(X_column > split_thresh).flatten()\n",
    "        return left_idxs, right_idxs\n",
    "\n",
    "    def _entropy(self, y):\n",
    "        hist = np.bincount(y)\n",
    "        ps = hist / len(y)\n",
    "        return -np.sum([p * np.log(p) for p in ps if p>0])\n",
    "\n",
    "\n",
    "    def _most_common_label(self, y):\n",
    "        counter = Counter(y)\n",
    "        value = counter.most_common(1)[0][0]\n",
    "        return value\n",
    "\n",
    "    def predict(self, X):\n",
    "        return np.array([self._traverse_tree(x, self.root) for x in X])\n",
    "\n",
    "    def _traverse_tree(self, x, node):\n",
    "        if node.is_leaf_node():\n",
    "            return node.value\n",
    "\n",
    "        if x[node.feature] <= node.threshold:\n",
    "            return self._traverse_tree(x, node.left)\n",
    "        return self._traverse_tree(x, node.right)"
   ]
  },
  {
   "cell_type": "code",
   "execution_count": 74,
   "id": "7d7632ba",
   "metadata": {},
   "outputs": [],
   "source": [
    "x = dup_1.drop(['status'],axis = 1)\n",
    "y = dup_1.status"
   ]
  },
  {
   "cell_type": "code",
   "execution_count": 75,
   "id": "d0d58118",
   "metadata": {},
   "outputs": [],
   "source": [
    "x_cols = x.columns"
   ]
  },
  {
   "cell_type": "code",
   "execution_count": 76,
   "id": "3fcae5fc",
   "metadata": {},
   "outputs": [],
   "source": [
    "new_header = x.iloc[0]\n",
    "x = x[0:]\n",
    "x.columns = new_header"
   ]
  },
  {
   "cell_type": "code",
   "execution_count": 77,
   "id": "4708d8e7",
   "metadata": {},
   "outputs": [
    {
     "name": "stdout",
     "output_type": "stream",
     "text": [
      "0    0.0   1.0   0.0   0.0   0.0   1.0   0.0    67.0   91.0   58.0  0.0   \\\n",
      "0       0     1     0     0     0     1     0  67.00  91.00  58.00     0   \n",
      "1       0     0     1     0     0     1     0  79.33  78.33  77.48     1   \n",
      "2       1     0     0     1     0     0     0  65.00  68.00  64.00     0   \n",
      "3       0     0     1     0     0     1     0  56.00  52.00  52.00     0   \n",
      "4       0     1     0     1     0     0     0  85.80  73.60  73.30     0   \n",
      "..    ...   ...   ...   ...   ...   ...   ...    ...    ...    ...   ...   \n",
      "210     0     1     0     1     0     0     0  80.60  82.00  77.60     0   \n",
      "211     0     0     1     0     0     1     0  58.00  60.00  72.00     0   \n",
      "212     0     1     0     1     0     0     0  67.00  67.00  73.00     1   \n",
      "213     0     1     0     1     0     0     1  74.00  66.00  58.00     0   \n",
      "214     0     0     1     1     0     0     0  62.00  58.00  53.00     0   \n",
      "\n",
      "0    55.0  0.0    58.8  \n",
      "0    55.0     0  58.80  \n",
      "1    86.5     1  66.28  \n",
      "2    75.0     1  57.80  \n",
      "3    66.0     0  59.43  \n",
      "4    96.8     1  55.50  \n",
      "..    ...   ...    ...  \n",
      "210  91.0     1  74.49  \n",
      "211  74.0     1  53.62  \n",
      "212  59.0     1  69.72  \n",
      "213  70.0     0  60.23  \n",
      "214  89.0     0  60.22  \n",
      "\n",
      "[215 rows x 14 columns]\n",
      "0      1\n",
      "1      1\n",
      "2      1\n",
      "3      0\n",
      "4      1\n",
      "      ..\n",
      "210    1\n",
      "211    1\n",
      "212    1\n",
      "213    1\n",
      "214    0\n",
      "Name: status, Length: 215, dtype: int64\n"
     ]
    }
   ],
   "source": [
    "print(x)\n",
    "print(y)"
   ]
  },
  {
   "cell_type": "code",
   "execution_count": 78,
   "id": "5ac9aab8",
   "metadata": {},
   "outputs": [
    {
     "name": "stdout",
     "output_type": "stream",
     "text": [
      "xtrain: 182\n",
      "xtest: 33\n",
      "ytrain: 182\n",
      "ytest: 33\n"
     ]
    }
   ],
   "source": [
    "# for suppose the splitting factor to be 0.85 which is 85%\n",
    "sf = 0.85\n",
    "n_train = math.floor(sf * x.shape[0])\n",
    "n_test = math.ceil((1-sf) * x.shape[0])\n",
    "\n",
    "x_train = x[:n_train]\n",
    "y_train = y[:n_train]\n",
    "x_test = x[n_train:]\n",
    "y_test = y[n_train:]\n",
    "\n",
    "print(\"xtrain:\",x_train.shape[0])\n",
    "print(\"xtest:\",x_test.shape[0])\n",
    "print(\"ytrain:\",y_train.shape[0])\n",
    "print(\"ytest:\",y_test.shape[0])"
   ]
  },
  {
   "cell_type": "code",
   "execution_count": 79,
   "id": "2baec9a9",
   "metadata": {},
   "outputs": [],
   "source": [
    "a_train = x_train.to_numpy()\n",
    "b_train = y_train.to_numpy()\n",
    "a_test = x_test.to_numpy()\n",
    "b_test = y_test.to_numpy()"
   ]
  },
  {
   "cell_type": "code",
   "execution_count": 85,
   "id": "f4761fdb",
   "metadata": {},
   "outputs": [
    {
     "name": "stdout",
     "output_type": "stream",
     "text": [
      "0.8181818181818182\n"
     ]
    }
   ],
   "source": [
    "clf_dt = DecisionTree()\n",
    "clf_dt.fit(a_train, b_train)\n",
    "predictions_dt = clf.predict(a_test)\n",
    "dt_acc = np.sum(b_test == predictions_dt) / len(b_test)\n",
    "print(dt_acc)"
   ]
  },
  {
   "cell_type": "code",
   "execution_count": 86,
   "id": "8458feec",
   "metadata": {},
   "outputs": [
    {
     "name": "stdout",
     "output_type": "stream",
     "text": [
      "Accuracy of DT with sklearn: 0.8181818181818182\n",
      "Accuracy of DT without sklearn: 0.8181818181818182\n"
     ]
    }
   ],
   "source": [
    "from sklearn.tree import DecisionTreeClassifier\n",
    "from sklearn.metrics import accuracy_score\n",
    "clf_dt_sk = DecisionTreeClassifier()\n",
    "clf_dt_sk.fit(a_train, b_train)\n",
    "y_pred = clf_dt.predict(a_test)\n",
    "dt_acc_sk = accuracy_score(y_pred, b_test)\n",
    "\n",
    "print(\"Accuracy of DT with sklearn:\", dt_acc_sk)\n",
    "print(\"Accuracy of DT without sklearn:\", dt_acc)"
   ]
  },
  {
   "cell_type": "code",
   "execution_count": 87,
   "id": "6782b921",
   "metadata": {
    "scrolled": false
   },
   "outputs": [
    {
     "name": "stdout",
     "output_type": "stream",
     "text": [
      "              precision    recall  f1-score   support\n",
      "\n",
      "           0       0.88      0.58      0.70        12\n",
      "           1       0.80      0.95      0.87        21\n",
      "\n",
      "    accuracy                           0.82        33\n",
      "   macro avg       0.84      0.77      0.78        33\n",
      "weighted avg       0.83      0.82      0.81        33\n",
      "\n"
     ]
    }
   ],
   "source": [
    "from sklearn.metrics import accuracy_score, classification_report\n",
    "print(classification_report(b_test, predictions_dt))"
   ]
  },
  {
   "cell_type": "code",
   "execution_count": 89,
   "id": "2d22984f",
   "metadata": {
    "scrolled": false
   },
   "outputs": [
    {
     "name": "stdout",
     "output_type": "stream",
     "text": [
      "[[ 7  5]\n",
      " [ 1 20]]\n"
     ]
    }
   ],
   "source": [
    "from sklearn.metrics import confusion_matrix\n",
    "cf_matrix = confusion_matrix(b_test, predictions_dt)\n",
    "print(cf_matrix)"
   ]
  },
  {
   "cell_type": "code",
   "execution_count": 90,
   "id": "b5a52d81",
   "metadata": {},
   "outputs": [
    {
     "data": {
      "image/png": "[encoded data removed]",
      "text/plain": [
       "<Figure size 432x288 with 2 Axes>"
      ]
     },
     "metadata": {
      "needs_background": "light"
     },
     "output_type": "display_data"
    }
   ],
   "source": [
    "ax = sns.heatmap(cf_matrix, annot=True, cmap='Blues')\n",
    "\n",
    "ax.set_title('Seaborn Confusion Matrix with labels\\n\\n');\n",
    "ax.set_xlabel('\\nPredicted Values')\n",
    "ax.set_ylabel('Actual Values ');\n",
    "\n",
    "## Ticket labels - List must be in alphabetical order\n",
    "ax.xaxis.set_ticklabels(['False','True'])\n",
    "ax.yaxis.set_ticklabels(['False','True'])\n",
    "\n",
    "## Display the visualization of the Confusion Matrix.\n",
    "plt.show()"
   ]
  }
 ],
 "metadata": {
  "kernelspec": {
   "display_name": "Python 3 (ipykernel)",
   "language": "python",
   "name": "python3"
  },
  "language_info": {
   "codemirror_mode": {
    "name": "ipython",
    "version": 3
   },
   "file_extension": ".py",
   "mimetype": "text/x-python",
   "name": "python",
   "nbconvert_exporter": "python",
   "pygments_lexer": "ipython3",
   "version": "3.9.12"
  }
 },
 "nbformat": 4,
 "nbformat_minor": 5
}
